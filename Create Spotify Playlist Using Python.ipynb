{
 "cells": [
  {
   "cell_type": "code",
   "execution_count": 1,
   "metadata": {},
   "outputs": [
    {
     "name": "stdout",
     "output_type": "stream",
     "text": [
      "The logic used to create a Spotify playlist mirrors that of PyMuse, a front-end app I built.\n",
      "PyMuse is available @ https://spotify-playlist-290119.uc.r.appspot.com\n",
      "Let's get started!\n"
     ]
    }
   ],
   "source": [
    "# Use Python to create your own Spotify Playlist!\n",
    "    \n",
    "# Prerequisite: User must have a Spotify account and have installed everthing in the README of this project @\n",
    "# https://github.com/wjewell3/spotipy/blob/master/README.md\n",
    "\n",
    "# Description: This tutorial provides an intro to the Python programming language.\n",
    "    # ***OPTIONAL*** cells cover the following topics, but are not necessary to create a playlist:\n",
    "\n",
    "# Python Topics Covered:\n",
    "    # 1. Defining Variables\n",
    "    # 2. Type/Class\n",
    "    # 3. Printing\n",
    "    # 4. Modules\n",
    "    # 5. Try/Except\n",
    "    # 6. Functions\n",
    "    # 7. Variables defined in Functions\n",
    "    # 8. Lists\n",
    "    # 9. APIs and the requests Module\n",
    "    # 10. Dictionaries\n",
    "    # 11. Nested Values\n",
    "    # 12. DataFrames\n",
    "    # 13. Accessing DataFrame data\n",
    "    # 14. For Loops\n",
    "    # 15. If Statements\n",
    "    # 16. Merging DataFrames\n",
    "\n",
    "print('The logic used to create a Spotify playlist mirrors that of PyMuse, a front-end app I built.')\n",
    "print('PyMuse is available @ https://spotify-playlist-290119.uc.r.appspot.com')\n",
    "\n",
    "# Run the cells below by clicking on the Jupyter Notebook \"Run\" button above\n",
    "\n",
    "print('''Let's get started!''')"
   ]
  },
  {
   "cell_type": "code",
   "execution_count": 2,
   "metadata": {},
   "outputs": [],
   "source": [
    "# The Plan!\n",
    "\n",
    "# Step 1\n",
    "# a. Import modules\n",
    "# b. Establish Spotify credentials\n",
    "\n",
    "# Step 2\n",
    "# a. Hit the Spotify API to get a list of your Top Artists (raw data)\n",
    "# b. Create an empty \"Top Artist\" Pandas DataFrame\n",
    "# c. Loop over the list of raw \"Top Artist\" data, migrating key information into the \"Top Artists\" Pandas DataFrame\n",
    "# d. Get genre counts from the \"Top Artist\" DataFrame, and put them into a Top Artist Genre Count DataFrame.\n",
    "\n",
    "# Step 3\n",
    "# a. Hit the Spotify API to get a list of Spotify's Featured Playlists (raw data)\n",
    "# b. Loop over the list of raw song data, migrating key information into \"Featured Playlist\" Dataframe\n",
    "\n",
    "# Step 4\n",
    "# a. Loop over \"Featured Playlist\" Dataframe's playlists uris, hitting the API to create a list of songs (raw data)\n",
    "# b. Loop over the list of raw song data, migrating key information into \"Featured Playlist Songs\" Dataframe\n",
    "# c. Loop over the \"Featured Playlist Song\" Dataframe, hitting the API to get the genres associated with each song,\n",
    "#    and migrating them into a \"Genres\" DataFrame\n",
    "# d. Merge the \"Featured Playlist Songs\" DataFrame with the \"Genres \"Dataframe\n",
    "\n",
    "# Step 5\n",
    "# a. Merge the \"Top Artist Genres\" Dataframe with the \"Featured Playlist Songs\" DataFrame\n",
    "# b. Sum the genre counts\n",
    "# c. Create a new playlist\n",
    "# d. Add songs with a genre score threshold into the new playlist"
   ]
  },
  {
   "cell_type": "code",
   "execution_count": 3,
   "metadata": {},
   "outputs": [],
   "source": [
    "# ***OPTIONAL***\n",
    "# Comments - any line starting with # is a comment"
   ]
  },
  {
   "cell_type": "code",
   "execution_count": 4,
   "metadata": {},
   "outputs": [
    {
     "name": "stdout",
     "output_type": "stream",
     "text": [
      "hello world\n"
     ]
    }
   ],
   "source": [
    "# ***OPTIONAL***\n",
    "# Defining Variables \n",
    "a = 'hello world'\n",
    "\n",
    "# Python has some built in functions like \"print\", which outputs to console\n",
    "print(a)"
   ]
  },
  {
   "cell_type": "code",
   "execution_count": 5,
   "metadata": {},
   "outputs": [
    {
     "name": "stdout",
     "output_type": "stream",
     "text": [
      "hello world\n",
      "<class 'str'>\n",
      "1\n",
      "<class 'int'>\n",
      "1.5\n",
      "<class 'float'>\n",
      "1.5\n",
      "<class 'str'>\n"
     ]
    }
   ],
   "source": [
    "# ***OPTIONAL***\n",
    "# There are many types/classes of variables\n",
    "print(a)\n",
    "print(type(a)) \n",
    "# str = string - this means Python interprets this as text\n",
    "\n",
    "b = 1\n",
    "print(b)\n",
    "print(type(b))\n",
    "# int = integer - this means Python interprets this as an integer, or whole number\n",
    "\n",
    "c = 1.5\n",
    "print(c)\n",
    "print(type(c))\n",
    "# float - this means Python interprests this as a number with a decimal\n",
    "\n",
    "# You can convert variables from one class to another\n",
    "d = str(c)\n",
    "print(d)\n",
    "print(type(d))"
   ]
  },
  {
   "cell_type": "code",
   "execution_count": 6,
   "metadata": {},
   "outputs": [
    {
     "name": "stdout",
     "output_type": "stream",
     "text": [
      "More on printing:\n",
      "\n",
      "Print statements on a newline with the newline\n",
      "symbol\n",
      "\n",
      "To print 'single' or \"double\" quotes, surround your print statement in triple quotes.\n",
      "\n",
      "Use the f operator to print variables along with text:\n",
      "\n",
      "hello world, using f operator\n",
      "hello world , using commas\n",
      "hello world, using +\n",
      "1, using +\n"
     ]
    }
   ],
   "source": [
    "# ***OPTIONAL***\n",
    "# More on Printing\n",
    "print('More on printing:\\n')\n",
    "print(\"Print statements on a newline with the newline\\nsymbol\\n\")\n",
    "print('''To print 'single' or \"double\" quotes, surround your print statement in triple quotes.''')\n",
    "\n",
    "print('\\nUse the f operator to print variables along with text:\\n')\n",
    "print(f'{a}, using f operator')\n",
    "\n",
    "# You can also print things together with commas\n",
    "print(a, ', using commas')\n",
    "\n",
    "# Or with +\n",
    "print(a + ', using +')\n",
    "\n",
    "# You can only combine strings with other strings with the + operator\n",
    "print(str(b) + ', using +')"
   ]
  },
  {
   "cell_type": "code",
   "execution_count": 7,
   "metadata": {},
   "outputs": [
    {
     "data": {
      "text/plain": [
       "1.5"
      ]
     },
     "execution_count": 7,
     "metadata": {},
     "output_type": "execute_result"
    }
   ],
   "source": [
    "# ***OPTIONAL***\n",
    "# Jupyter notebooks automatically print output if it sits on the last line\n",
    "b\n",
    "c\n",
    "# Notice that \"b\" does not show an output"
   ]
  },
  {
   "cell_type": "code",
   "execution_count": 8,
   "metadata": {},
   "outputs": [],
   "source": [
    "# Step 1 of 5"
   ]
  },
  {
   "cell_type": "code",
   "execution_count": 33,
   "metadata": {},
   "outputs": [
    {
     "name": "stdout",
     "output_type": "stream",
     "text": [
      "Modules imported! You can disregard any warnings above.\n",
      "\n"
     ]
    }
   ],
   "source": [
    "# Step 1a - Let's import the modules needed to create a Spotify playlist:\n",
    "\n",
    "# First we need to install the modules\n",
    "# You can pip install from within a jupyter notebook, but we should have everything already installed from the readme\n",
    "# !pip install -r requirements.txt\n",
    "\n",
    "# Spotipy (the Spotify API) modules:\n",
    "import spotipy\n",
    "import spotipy.util as util\n",
    "from spotipy.oauth2 import SpotifyOAuth\n",
    "\n",
    "# Credentials to connect to Spotify API:\n",
    "from config import CONFIG\n",
    "\n",
    "# Other Python packages\n",
    "import inspect\n",
    "import io\n",
    "import json\n",
    "from IPython.display import display\n",
    "from json.decoder import JSONDecodeError\n",
    "import math\n",
    "import os\n",
    "import pandas as pd\n",
    "import numpy as np \n",
    "from pandas.io.json import json_normalize\n",
    "import pickle\n",
    "import requests\n",
    "import subprocess\n",
    "import sys\n",
    "import time\n",
    "from time import ctime\n",
    "import webbrowser\n",
    "from datetime import datetime, timedelta\n",
    "\n",
    "print('Modules imported! You can disregard any warnings above.\\n')"
   ]
  },
  {
   "cell_type": "code",
   "execution_count": 34,
   "metadata": {},
   "outputs": [
    {
     "name": "stdout",
     "output_type": "stream",
     "text": [
      "3.141592653589793\n",
      "3\n",
      "4\n"
     ]
    }
   ],
   "source": [
    "# ***OPTIONAL***\n",
    "# Importing Python modules\n",
    "# Modules provide extra functionality to Python\n",
    "\n",
    "import math\n",
    "print(math.pi)\n",
    "\n",
    "# round down\n",
    "print(math.floor(math.pi))\n",
    "\n",
    "# round up\n",
    "print(math.ceil(math.pi))"
   ]
  },
  {
   "cell_type": "code",
   "execution_count": 35,
   "metadata": {},
   "outputs": [
    {
     "name": "stdout",
     "output_type": "stream",
     "text": [
      "Wed Nov 11 14:50:56 2020\n"
     ]
    }
   ],
   "source": [
    "# ***OPTIONAL***\n",
    "# Some modules have sub-modules\n",
    "import time\n",
    "from time import ctime # current time\n",
    "print(ctime())"
   ]
  },
  {
   "cell_type": "code",
   "execution_count": 36,
   "metadata": {},
   "outputs": [
    {
     "name": "stdout",
     "output_type": "stream",
     "text": [
      "3\n",
      "z does not exist\n"
     ]
    }
   ],
   "source": [
    "# ***OPTIONAL***\n",
    "# Use try, except blocks for error handling\n",
    "a = 1\n",
    "b = 2\n",
    "\n",
    "try:\n",
    "    print(a + b)\n",
    "except:\n",
    "    print('try clause failed')\n",
    "\n",
    "try:\n",
    "    print(a + z)\n",
    "except:\n",
    "    print('z does not exist')\n",
    "    \n",
    "try:\n",
    "    print(a + z)\n",
    "except:\n",
    "    pass "
   ]
  },
  {
   "cell_type": "code",
   "execution_count": 37,
   "metadata": {},
   "outputs": [
    {
     "name": "stdout",
     "output_type": "stream",
     "text": [
      "Use functions to define chunks of logic:\n"
     ]
    },
    {
     "data": {
      "text/plain": [
       "3"
      ]
     },
     "execution_count": 37,
     "metadata": {},
     "output_type": "execute_result"
    }
   ],
   "source": [
    "# ***OPTIONAL***\n",
    "# Functions\n",
    "print('Use functions to define chunks of logic:')\n",
    "\n",
    "def f(a,b):\n",
    "    c = a + b\n",
    "    return c\n",
    "\n",
    "f(1,2)"
   ]
  },
  {
   "cell_type": "code",
   "execution_count": 38,
   "metadata": {},
   "outputs": [
    {
     "name": "stdout",
     "output_type": "stream",
     "text": [
      "var = hello world\n",
      "var = hello world\n"
     ]
    }
   ],
   "source": [
    "# ***OPTIONAL***\n",
    "# Variables can be defined in functions. \n",
    "\n",
    "def a():\n",
    "    var = 'hello world'\n",
    "    return \n",
    "\n",
    "# Note: not all functions have to return anything\n",
    "\n",
    "\n",
    "# Variables are only accessible globally (i.e. outside function) if they are declared with the global helper\n",
    "\n",
    "def b():\n",
    "    global var\n",
    "    var = 'hello world'\n",
    "    return\n",
    "\n",
    "# Let's run function a()\n",
    "a()\n",
    "\n",
    "try:\n",
    "    print(f'var = {var}')\n",
    "except:\n",
    "    print('var not defined')\n",
    "    \n",
    "b()\n",
    "\n",
    "print(f'var = {var}')"
   ]
  },
  {
   "cell_type": "code",
   "execution_count": 39,
   "metadata": {},
   "outputs": [
    {
     "name": "stdout",
     "output_type": "stream",
     "text": [
      "\n",
      "Please note - in the following section, you will be authenticating your Spotify credentials:\n",
      "1. When you click \"Run\" on the cell below, you will be redirected to a Spotify login page\n",
      "2. Please log in to your Spotify account\n",
      "3. You will then be directed to http://google.com/\n",
      "4. Copy the URL\n",
      "5. Return to the Jupyter notebook and paste the URL in the prompt\n",
      "\n"
     ]
    }
   ],
   "source": [
    "print('''\n",
    "Please note - in the following section, you will be authenticating your Spotify credentials:\n",
    "1. When you click \"Run\" on the cell below, you will be redirected to a Spotify login page\n",
    "2. Please log in to your Spotify account\n",
    "3. You will then be directed to http://google.com/\n",
    "4. Copy the URL\n",
    "5. Return to the Jupyter notebook and paste the URL in the prompt\n",
    "''')"
   ]
  },
  {
   "cell_type": "code",
   "execution_count": 40,
   "metadata": {},
   "outputs": [
    {
     "name": "stdout",
     "output_type": "stream",
     "text": [
      "Logged into Spotify as 1254636534\n"
     ]
    }
   ],
   "source": [
    "# Step 1b - Use this function to establish (global) Spotify credentials which allow you to connect to Spotify's API:\n",
    "\n",
    "# Set env variables\n",
    "\n",
    "os.environ['SPOTIPY_CLIENT_ID']=CONFIG['env_variables']['SPOTIPY_CLIENT_ID']\n",
    "os.environ['SPOTIPY_CLIENT_SECRET']=CONFIG['env_variables']['SPOTIPY_CLIENT_SECRET']\n",
    "os.environ['SPOTIPY_REDIRECT_URI']='http://google.com/'\n",
    "\n",
    "def define_scope():  \n",
    "    global scope, sp, user, username, headers\n",
    "    scope = '''\n",
    "    playlist-modify-private \n",
    "    playlist-modify-public \n",
    "    playlist-read-collaborative \n",
    "    playlist-read-private\n",
    "    user-follow-modify \n",
    "    user-follow-read \n",
    "    user-library-modify \n",
    "    user-library-read \n",
    "    user-modify-playback-state \n",
    "    user-read-currently-playing \n",
    "    user-read-email \n",
    "    user-read-playback-state \n",
    "    user-read-private \n",
    "    user-read-recently-played \n",
    "    user-top-read'''\n",
    "    \n",
    "    # This command logs you in and establishes a spotify object, sp\n",
    "    sp = spotipy.Spotify(auth_manager=SpotifyOAuth(\n",
    "        scope=scope\n",
    "        ,cache_path='./.cache'\n",
    "        ))\n",
    "\n",
    "    # This object has certain attributes (e.g. current_user())\n",
    "    user = sp.current_user()\n",
    "    username = user['display_name']\n",
    "    token = util.prompt_for_user_token(username, scope)\n",
    "    headers = {'Authorization': \"Bearer {}\".format(token)}\n",
    "    return\n",
    "\n",
    "define_scope()\n",
    "print(f\"Logged into Spotify as {user['display_name']}\")"
   ]
  },
  {
   "cell_type": "code",
   "execution_count": 41,
   "metadata": {},
   "outputs": [
    {
     "name": "stdout",
     "output_type": "stream",
     "text": [
      "Python lists\n",
      "\n",
      "list = [1, 2, 3]\n",
      "<class 'list'> \n",
      "\n",
      "another list = ['h', 'e', 'l', 'l', 'o', ' ', 'w', 'o', 'r', 'l', 'd']\n",
      "\n",
      "Length of list = 11\n",
      "\n",
      "First element of list = h\n",
      "First two elements of list = ['h', 'e']\n",
      "First three elements of list = ['h', 'e', 'l']\n",
      "All elements of list = ['h', 'e', 'l', 'l', 'o', ' ', 'w', 'o', 'r', 'l', 'd']\n",
      "Elements of list, up to the fifth item = ['h', 'e', 'l', 'l', 'o']\n",
      "Last two elements of list = ['l', 'd']\n",
      "Last element of list = d\n",
      "All but the last element of list = ['h', 'e', 'l', 'l', 'o', ' ', 'w', 'o', 'r', 'l']\n",
      "Elements of the list joined together with an empty sting: hello world\n"
     ]
    }
   ],
   "source": [
    "# ***OPTIONAL***\n",
    "# Lists\n",
    "print('Python lists\\n')\n",
    "\n",
    "l = [1,2,3]\n",
    "print(f'list = {l}')\n",
    "\n",
    "print(type(l),'\\n')\n",
    "l = list('hello world')\n",
    "\n",
    "print(f'another list = {l}\\n')\n",
    "print(f'Length of list = {len(l)}\\n')\n",
    "\n",
    "# The first index, or accessor, is 0 \n",
    "print(f'First element of list = {l[0]}')\n",
    "print(f'First two elements of list = {l[0:2]}')\n",
    "print(f'First three elements of list = {l[0:3]}')\n",
    "print(f'All elements of list = {l[:]}')\n",
    "print(f'Elements of list, up to the fifth item = {l[:5]}')\n",
    "print(f'Last two elements of list = {l[9:11]}')\n",
    "print(f'Last element of list = {l[10]}')\n",
    "print(f'All but the last element of list = {l[:-1]}')\n",
    "print(f'''Elements of the list joined together with an empty sting: {''.join(l)}''')\n",
    "         \n",
    "# Note: triple quotes works if you have a print statement with single quotes."
   ]
  },
  {
   "cell_type": "code",
   "execution_count": 42,
   "metadata": {},
   "outputs": [],
   "source": [
    "# Step 2 of 5"
   ]
  },
  {
   "cell_type": "code",
   "execution_count": 43,
   "metadata": {},
   "outputs": [],
   "source": [
    "# ***OPTIONAL***\n",
    "# An API holds data that you can GET (retrieve) or POST (push) (e.g. The Spotify API has data on songs)\n",
    "# You generally need a URL + headers to access an API endpoint - these act like a key to access the API.\n",
    "# The \"requests\" module allows Python to make API requests. \n",
    "# In the below function, we are making a GET request to retrieve data from the Spotipy API.\n",
    "# The API sends us this data in json format, which Python handles with json.loads()"
   ]
  },
  {
   "cell_type": "code",
   "execution_count": 44,
   "metadata": {
    "scrolled": true
   },
   "outputs": [
    {
     "name": "stdout",
     "output_type": "stream",
     "text": [
      "*********************************************************************************************************************\n",
      "\n",
      "Below is the raw \"top artist\" data returned from a Spotify API GET request (yay, you got some data)!\n",
      "\n",
      "Notice it starts and ends with [], a clue that it is a Python list.\n",
      "\n",
      "It look a bit nasty, but we will use Python to clean it up.\n",
      "\n",
      "\n",
      "[{'external_urls': {'spotify': 'https://open.spotify.com/artist/5Zx2zsHC975JnRXFDjNG0f'}, 'followers': {'href': None, 'total': 77}, 'genres': [], 'href': 'https://api.spotify.com/v1/artists/5Zx2zsHC975JnRXFDjNG0f', 'id': '5Zx2zsHC975JnRXFDjNG0f', 'images': [{'height': 640, 'url': 'https://i.scdn.co/image/ab67616d0000b273d1ccb8b2fa11d4801b4cb2ad', 'width': 640}, {'height': 300, 'url': 'https://i.scdn.co/image/ab67616d00001e02d1ccb8b2fa11d4801b4cb2ad', 'width': 300}, {'height': 64, 'url': 'https://i.scdn.co/image/ab67616d00004851d1ccb8b2fa11d4801b4cb2ad', 'width': 64}], 'name': 'Richard L Hargrave', 'popularity': 41, 'type': 'artist', 'uri': 'spotify:artist:5Zx2zsHC975JnRXFDjNG0f'}, {'external_urls': {'spotify': 'https://open.spotify.com/artist/4oV5EVJ0XFWsJKoOvdRPvl'}, 'followers': {'href': None, 'total': 108402}, 'genres': ['alternative pop', 'alternative rock', 'anti-folk', 'art rock', 'dance rock', 'freak folk', 'garage psych', 'gbvfi', 'indie pop', 'indie rock', 'lo-fi', 'modern power pop', 'noise pop', 'ohio indie', 'post-hardcore', 'power pop'], 'href': 'https://api.spotify.com/v1/artists/4oV5EVJ0XFWsJKoOvdRPvl', 'id': '4oV5EVJ0XFWsJKoOvdRPvl', 'images': [{'height': 640, 'url': 'https://i.scdn.co/image/6c57c14c7461bda2bc6ac95134ec7d5e737037bf', 'width': 640}, {'height': 320, 'url': 'https://i.scdn.co/image/71a337fc76f0d4f544865a7c0ea2179b13308160', 'width': 320}, {'height': 160, 'url': 'https://i.scdn.co/image/ff0d48a956f14592e701a41a17d338b29af394f2', 'width': 160}], 'name': 'Guided By Voices', 'popularity': 53, 'type': 'artist', 'uri': 'spotify:artist:4oV5EVJ0XFWsJKoOvdRPvl'}, {'external_urls': {'spotify': 'https://open.spotify.com/artist/0K1q0nXQ8is36PzOKAMbNe'}, 'followers': {'href': None, 'total': 472731}, 'genres': ['alternative dance', 'alternative rock', 'austindie', 'dance-punk', 'indie pop', 'indie rock', 'modern alternative rock', 'modern rock', 'rock'], 'href': 'https://api.spotify.com/v1/artists/0K1q0nXQ8is36PzOKAMbNe', 'id': '0K1q0nXQ8is36PzOKAMbNe', 'images': [{'height': 640, 'url': 'https://i.scdn.co/image/9a3d18784c4bfe60985dbda4d3f3b4b1d79182e5', 'width': 640}, {'height': 320, 'url': 'https://i.scdn.co/image/b5d56b137a70128cc2469b3315ba4aef33b1bc71', 'width': 320}, {'height': 160, 'url': 'https://i.scdn.co/image/2eb70aa99df6dc71529b924e27d129a01b5991b5', 'width': 160}], 'name': 'Spoon', 'popularity': 63, 'type': 'artist', 'uri': 'spotify:artist:0K1q0nXQ8is36PzOKAMbNe'}, {'external_urls': {'spotify': 'https://open.spotify.com/artist/6k8oBFzievbIn6XJK0pDpa'}, 'followers': {'href': None, 'total': 35925}, 'genres': ['folktronica'], 'href': 'https://api.spotify.com/v1/artists/6k8oBFzievbIn6XJK0pDpa', 'id': '6k8oBFzievbIn6XJK0pDpa', 'images': [{'height': 640, 'url': 'https://i.scdn.co/image/d544a65e73cd2bc0546c8dbea769310005a2e77a', 'width': 640}, {'height': 320, 'url': 'https://i.scdn.co/image/ba39fa99563f362d017372902e63127a71e46600', 'width': 320}, {'height': 160, 'url': 'https://i.scdn.co/image/28be33584ab19642ad2728085a7c8cc7a8a8fa9b', 'width': 160}], 'name': 'Tunng', 'popularity': 45, 'type': 'artist', 'uri': 'spotify:artist:6k8oBFzievbIn6XJK0pDpa'}, {'external_urls': {'spotify': 'https://open.spotify.com/artist/37eqxl8DyLd5sQN54wYJbE'}, 'followers': {'href': None, 'total': 57924}, 'genres': ['alternative country', 'deep new americana', 'funk', 'indie folk', 'indie rock', 'modern folk rock', 'new americana', 'north carolina indie', 'roots rock', 'stomp and holler'], 'href': 'https://api.spotify.com/v1/artists/37eqxl8DyLd5sQN54wYJbE', 'id': '37eqxl8DyLd5sQN54wYJbE', 'images': [{'height': 640, 'url': 'https://i.scdn.co/image/dd3c9d7bac15f5be6812816c936aa93455955d25', 'width': 640}, {'height': 320, 'url': 'https://i.scdn.co/image/5f99fe232a23140db973f7d479174618e3473bd5', 'width': 320}, {'height': 160, 'url': 'https://i.scdn.co/image/90dd46f857f855f31d11561fa25eec680086e716', 'width': 160}], 'name': 'Hiss Golden Messenger', 'popularity': 57, 'type': 'artist', 'uri': 'spotify:artist:37eqxl8DyLd5sQN54wYJbE'}, {'external_urls': {'spotify': 'https://open.spotify.com/artist/0syIRg9MPSpJIC0QCPUaHB'}, 'followers': {'href': None, 'total': 48729}, 'genres': ['acoustic pop', 'indie anthem-folk', 'indie folk', 'indiecoustica', 'new americana', 'stomp and flutter', 'stomp and holler'], 'href': 'https://api.spotify.com/v1/artists/0syIRg9MPSpJIC0QCPUaHB', 'id': '0syIRg9MPSpJIC0QCPUaHB', 'images': [{'height': 640, 'url': 'https://i.scdn.co/image/52889e68b5cbd3fa426ee1677ac9998b9ee95b70', 'width': 640}, {'height': 320, 'url': 'https://i.scdn.co/image/8ad8776357e91fb641bb6f87dff7fa709558f496', 'width': 320}, {'height': 160, 'url': 'https://i.scdn.co/image/c17637afded4fc91eec8921ec764086bd7302b2b', 'width': 160}], 'name': 'Beta Radio', 'popularity': 59, 'type': 'artist', 'uri': 'spotify:artist:0syIRg9MPSpJIC0QCPUaHB'}, {'external_urls': {'spotify': 'https://open.spotify.com/artist/2XdtmipGVPmA62ptDgX8QC'}, 'followers': {'href': None, 'total': 55363}, 'genres': ['indie anthem-folk', 'indie folk', 'new americana', 'pop folk', 'stomp and holler', 'vermont indie'], 'href': 'https://api.spotify.com/v1/artists/2XdtmipGVPmA62ptDgX8QC', 'id': '2XdtmipGVPmA62ptDgX8QC', 'images': [{'height': 640, 'url': 'https://i.scdn.co/image/ee107f6f647d388b805ce2e1a9dc6fb624cc226b', 'width': 640}, {'height': 320, 'url': 'https://i.scdn.co/image/1fd5365b58f1c9413949960c60f86eb342cb396d', 'width': 320}, {'height': 160, 'url': 'https://i.scdn.co/image/5ccd856739b37f7bae8298dcd027b73ce6eabac2', 'width': 160}], 'name': 'Henry Jamison', 'popularity': 62, 'type': 'artist', 'uri': 'spotify:artist:2XdtmipGVPmA62ptDgX8QC'}, {'external_urls': {'spotify': 'https://open.spotify.com/artist/4SOtk3HtPYKqxnVuxNBMti'}, 'followers': {'href': None, 'total': 50582}, 'genres': ['acoustic pop', 'canadian indie', 'canadian singer-songwriter', 'deep new americana', 'indie anthem-folk', 'indie folk', 'indiecoustica', 'neo mellow', 'new americana', 'stomp and holler'], 'href': 'https://api.spotify.com/v1/artists/4SOtk3HtPYKqxnVuxNBMti', 'id': '4SOtk3HtPYKqxnVuxNBMti', 'images': [{'height': 640, 'url': 'https://i.scdn.co/image/c81d12133b8b9016ad2462e5d977a29a5c42ba42', 'width': 640}, {'height': 320, 'url': 'https://i.scdn.co/image/820b668b3468c492d7825829511db6638c3602bf', 'width': 320}, {'height': 160, 'url': 'https://i.scdn.co/image/1f7a910fa02103c74c0028f0bf6aa1151d9c3ffe', 'width': 160}], 'name': 'Donovan Woods', 'popularity': 64, 'type': 'artist', 'uri': 'spotify:artist:4SOtk3HtPYKqxnVuxNBMti'}, {'external_urls': {'spotify': 'https://open.spotify.com/artist/40Yq4vzPs9VNUrIBG5Jr2i'}, 'followers': {'href': None, 'total': 2989034}, 'genres': ['alternative metal', 'alternative rock', 'grunge', 'modern rock', 'permanent wave', 'pop rock', 'rock'], 'href': 'https://api.spotify.com/v1/artists/40Yq4vzPs9VNUrIBG5Jr2i', 'id': '40Yq4vzPs9VNUrIBG5Jr2i', 'images': [{'height': 640, 'url': 'https://i.scdn.co/image/72242b9f5382502e8ea13855b49bb74d6993b34b', 'width': 640}, {'height': 320, 'url': 'https://i.scdn.co/image/c43cf3ff80affd84983f4feec09e7ea4380d6ec2', 'width': 320}, {'height': 160, 'url': 'https://i.scdn.co/image/9ef45c353bfe5e7dae8048e532b8ac64a4016fee', 'width': 160}], 'name': 'The Smashing Pumpkins', 'popularity': 76, 'type': 'artist', 'uri': 'spotify:artist:40Yq4vzPs9VNUrIBG5Jr2i'}, {'external_urls': {'spotify': 'https://open.spotify.com/artist/2kGBy2WHvF0VdZyqiVCkDT'}, 'followers': {'href': None, 'total': 576361}, 'genres': ['freak folk', 'indie folk', 'indie pop', 'indie rock', 'rock', 'stomp and holler'], 'href': 'https://api.spotify.com/v1/artists/2kGBy2WHvF0VdZyqiVCkDT', 'id': '2kGBy2WHvF0VdZyqiVCkDT', 'images': [{'height': 640, 'url': 'https://i.scdn.co/image/fc49de93fd4b99de3d42520199e2e203e07c8fa0', 'width': 640}, {'height': 320, 'url': 'https://i.scdn.co/image/d7627fcbd9838fec2cb054cc3965467bf6da734e', 'width': 320}, {'height': 160, 'url': 'https://i.scdn.co/image/6b08f006e3a1d344f76fa81e8bbf999ae7b64c50', 'width': 160}], 'name': 'Father John Misty', 'popularity': 67, 'type': 'artist', 'uri': 'spotify:artist:2kGBy2WHvF0VdZyqiVCkDT'}, {'external_urls': {'spotify': 'https://open.spotify.com/artist/5gspAQIAH8nJUrMYgXjCJ2'}, 'followers': {'href': None, 'total': 388735}, 'genres': ['alternative rock', 'freak folk', 'indie folk', 'indie rock', 'modern folk rock', 'neo-psychedelic', 'philly indie'], 'href': 'https://api.spotify.com/v1/artists/5gspAQIAH8nJUrMYgXjCJ2', 'id': '5gspAQIAH8nJUrMYgXjCJ2', 'images': [{'height': 640, 'url': 'https://i.scdn.co/image/cceed461a34cfb9ac1cd08605b334443c1bb2501', 'width': 640}, {'height': 320, 'url': 'https://i.scdn.co/image/70c6e0377ceb056f19835ae60ffc627fc2032d34', 'width': 320}, {'height': 160, 'url': 'https://i.scdn.co/image/e362c32cd6279844fddcc03799408b30d745afac', 'width': 160}], 'name': 'Kurt Vile', 'popularity': 64, 'type': 'artist', 'uri': 'spotify:artist:5gspAQIAH8nJUrMYgXjCJ2'}, {'external_urls': {'spotify': 'https://open.spotify.com/artist/2QoU3awHVdcHS8LrZEKvSM'}, 'followers': {'href': None, 'total': 555696}, 'genres': ['alternative country', 'alternative rock', 'chicago indie', 'indie pop', 'indie rock', 'pop rock', 'rock', 'roots rock', 'stomp and holler'], 'href': 'https://api.spotify.com/v1/artists/2QoU3awHVdcHS8LrZEKvSM', 'id': '2QoU3awHVdcHS8LrZEKvSM', 'images': [{'height': 640, 'url': 'https://i.scdn.co/image/26816116d2e836116ccf596a855160be5657d936', 'width': 640}, {'height': 320, 'url': 'https://i.scdn.co/image/cdf5e817af10c070b8995fe27a778b3e2ddaa848', 'width': 320}, {'height': 160, 'url': 'https://i.scdn.co/image/91c100ac2b95066501238763f823b80ab03a3776', 'width': 160}], 'name': 'Wilco', 'popularity': 67, 'type': 'artist', 'uri': 'spotify:artist:2QoU3awHVdcHS8LrZEKvSM'}, {'external_urls': {'spotify': 'https://open.spotify.com/artist/2wJ4vsxWd7df7dRU4KcoDe'}, 'followers': {'href': None, 'total': 344060}, 'genres': ['art pop', 'chamber pop', 'chamber psych', 'freak folk', 'indie folk', 'indie pop', 'indie rock', 'melancholia', 'new jersey indie', 'stomp and holler'], 'href': 'https://api.spotify.com/v1/artists/2wJ4vsxWd7df7dRU4KcoDe', 'id': '2wJ4vsxWd7df7dRU4KcoDe', 'images': [{'height': 640, 'url': 'https://i.scdn.co/image/08450baee6651b0a080ff0f63cda949dfc35ff07', 'width': 640}, {'height': 320, 'url': 'https://i.scdn.co/image/e66e8d3eff3550d3eb8d643340f7701519bae02e', 'width': 320}, {'height': 160, 'url': 'https://i.scdn.co/image/0c79547b4861bdd879fe441becefa6304c0e8ada', 'width': 160}], 'name': 'Sharon Van Etten', 'popularity': 65, 'type': 'artist', 'uri': 'spotify:artist:2wJ4vsxWd7df7dRU4KcoDe'}, {'external_urls': {'spotify': 'https://open.spotify.com/artist/5sXaGoRLSpd7VeyZrLkKwt'}, 'followers': {'href': None, 'total': 480135}, 'genres': ['indie folk', 'new americana', 'pop folk', 'stomp and flutter', 'stomp and holler'], 'href': 'https://api.spotify.com/v1/artists/5sXaGoRLSpd7VeyZrLkKwt', 'id': '5sXaGoRLSpd7VeyZrLkKwt', 'images': [{'height': 640, 'url': 'https://i.scdn.co/image/9e158142d52e5c303284cf64a4d8b3b54f320872', 'width': 640}, {'height': 320, 'url': 'https://i.scdn.co/image/cefb4d236d1e8f14286d5d5616b70b4b4015d32c', 'width': 320}, {'height': 160, 'url': 'https://i.scdn.co/image/e3681b8b12c5cf182f4f270fb59831f26e024444', 'width': 160}], 'name': 'Gregory Alan Isakov', 'popularity': 70, 'type': 'artist', 'uri': 'spotify:artist:5sXaGoRLSpd7VeyZrLkKwt'}, {'external_urls': {'spotify': 'https://open.spotify.com/artist/0CDUUM6KNRvgBFYIbWxJwV'}, 'followers': {'href': None, 'total': 199748}, 'genres': ['alternative country', 'deep new americana', 'funk', 'indie folk', 'indie rock', 'modern folk rock', 'new americana', 'pop rock', 'roots rock', 'stomp and holler'], 'href': 'https://api.spotify.com/v1/artists/0CDUUM6KNRvgBFYIbWxJwV', 'id': '0CDUUM6KNRvgBFYIbWxJwV', 'images': [{'height': 640, 'url': 'https://i.scdn.co/image/badc7cf01a08caa9bc9c32b70becca7d2595e3ca', 'width': 640}, {'height': 320, 'url': 'https://i.scdn.co/image/8b10e249759932992a4b02ffa00ff8a06e5be11d', 'width': 320}, {'height': 160, 'url': 'https://i.scdn.co/image/38dfc6cacd5fd8fd77848c9ffe22951189fdd0f8', 'width': 160}], 'name': 'Dawes', 'popularity': 61, 'type': 'artist', 'uri': 'spotify:artist:0CDUUM6KNRvgBFYIbWxJwV'}, {'external_urls': {'spotify': 'https://open.spotify.com/artist/1WvvwcQx0tj6NdDhZZ2zZz'}, 'followers': {'href': None, 'total': 428087}, 'genres': ['alternative dance', 'baltimore indie', 'chillwave', 'indie rock', 'new rave'], 'href': 'https://api.spotify.com/v1/artists/1WvvwcQx0tj6NdDhZZ2zZz', 'id': '1WvvwcQx0tj6NdDhZZ2zZz', 'images': [{'height': 640, 'url': 'https://i.scdn.co/image/0e8afdfeee69deaa7ccbe2181d382f9a17fad2f1', 'width': 640}, {'height': 320, 'url': 'https://i.scdn.co/image/8b2a1067eec0459db25ca12c33dc08b13b9c375f', 'width': 320}, {'height': 160, 'url': 'https://i.scdn.co/image/a5418df7ba5fae816278ab645d3c660fb2746251', 'width': 160}], 'name': 'Future Islands', 'popularity': 67, 'type': 'artist', 'uri': 'spotify:artist:1WvvwcQx0tj6NdDhZZ2zZz'}, {'external_urls': {'spotify': 'https://open.spotify.com/artist/25mrbNwFzoqPWyYXLhiDRw'}, 'followers': {'href': None, 'total': 210514}, 'genres': ['acoustic pop', 'british singer-songwriter', 'indie folk', 'neo mellow', 'stomp and holler'], 'href': 'https://api.spotify.com/v1/artists/25mrbNwFzoqPWyYXLhiDRw', 'id': '25mrbNwFzoqPWyYXLhiDRw', 'images': [{'height': 640, 'url': 'https://i.scdn.co/image/b9c78e23d67e5c39db6b29dcfbae7e58c06d9b37', 'width': 640}, {'height': 320, 'url': 'https://i.scdn.co/image/63a66b1c8504b957781437e90d183639d4275794', 'width': 320}, {'height': 160, 'url': 'https://i.scdn.co/image/7d2881369c09f2283c47e1ac24a6d93e42f6c30d', 'width': 160}], 'name': 'Alexi Murdoch', 'popularity': 59, 'type': 'artist', 'uri': 'spotify:artist:25mrbNwFzoqPWyYXLhiDRw'}, {'external_urls': {'spotify': 'https://open.spotify.com/artist/3DkhgIw7lIyxekurpXNTrm'}, 'followers': {'href': None, 'total': 39501}, 'genres': ['boston folk', 'deep new americana', 'folk-pop', 'indie folk', 'indiecoustica', 'new americana', 'new england americana', 'stomp and holler'], 'href': 'https://api.spotify.com/v1/artists/3DkhgIw7lIyxekurpXNTrm', 'id': '3DkhgIw7lIyxekurpXNTrm', 'images': [{'height': 640, 'url': 'https://i.scdn.co/image/24bbdc997a95b69f07cc873c434dade167ed5091', 'width': 640}, {'height': 320, 'url': 'https://i.scdn.co/image/96cf4e4d449474c13e3aa27d9f7c3862b7f47571', 'width': 320}, {'height': 160, 'url': 'https://i.scdn.co/image/4ece601c7541c0886975b5237f77c63d1aacb437', 'width': 160}], 'name': 'Darlingside', 'popularity': 61, 'type': 'artist', 'uri': 'spotify:artist:3DkhgIw7lIyxekurpXNTrm'}, {'external_urls': {'spotify': 'https://open.spotify.com/artist/4LG4Bs1Gadht7TCrMytQUO'}, 'followers': {'href': None, 'total': 993063}, 'genres': ['albuquerque indie', 'alternative rock', 'indie folk', 'indie pop', 'indie rock', 'modern rock', 'portland indie', 'rock', 'stomp and holler'], 'href': 'https://api.spotify.com/v1/artists/4LG4Bs1Gadht7TCrMytQUO', 'id': '4LG4Bs1Gadht7TCrMytQUO', 'images': [{'height': 640, 'url': 'https://i.scdn.co/image/c8898b66e1ce2f320e5a8eda42338073ccf45134', 'width': 640}, {'height': 320, 'url': 'https://i.scdn.co/image/f93b62000a9b4d6edb454912182d84dc14c4de94', 'width': 320}, {'height': 160, 'url': 'https://i.scdn.co/image/5502fe7159b2f4abb3e2c9c9458af5bf34d3a5cb', 'width': 160}], 'name': 'The Shins', 'popularity': 67, 'type': 'artist', 'uri': 'spotify:artist:4LG4Bs1Gadht7TCrMytQUO'}, {'external_urls': {'spotify': 'https://open.spotify.com/artist/6Tyzp9KzpiZ04DABQoedps'}, 'followers': {'href': None, 'total': 537467}, 'genres': ['alternative dance', 'alternative r&b', 'art pop', 'chillwave', 'downtempo', 'electronica', 'electropop', 'escape room', 'gothenburg indie', 'indie soul', 'indietronica', 'new rave', 'swedish electropop', 'swedish synthpop', 'trip hop'], 'href': 'https://api.spotify.com/v1/artists/6Tyzp9KzpiZ04DABQoedps', 'id': '6Tyzp9KzpiZ04DABQoedps', 'images': [{'height': 640, 'url': 'https://i.scdn.co/image/2ab99177dac7d5f67c3596f9c941c8ee834de005', 'width': 640}, {'height': 320, 'url': 'https://i.scdn.co/image/51ac7df0154f483d6434505b8e092512222a1f44', 'width': 320}, {'height': 160, 'url': 'https://i.scdn.co/image/adfdfa7967b6ca4f5580831a2457778c69047a15', 'width': 160}], 'name': 'Little Dragon', 'popularity': 67, 'type': 'artist', 'uri': 'spotify:artist:6Tyzp9KzpiZ04DABQoedps'}, {'external_urls': {'spotify': 'https://open.spotify.com/artist/1fZpYWNWdL5Z3wrDtISFUH'}, 'followers': {'href': None, 'total': 367785}, 'genres': ['austin americana', 'austindie', 'deep new americana', 'indie folk', 'indie rock', 'modern rock', 'new americana', 'stomp and holler'], 'href': 'https://api.spotify.com/v1/artists/1fZpYWNWdL5Z3wrDtISFUH', 'id': '1fZpYWNWdL5Z3wrDtISFUH', 'images': [{'height': 640, 'url': 'https://i.scdn.co/image/cb4b25f8163032a4465a5ab23bf903101ff127a3', 'width': 640}, {'height': 320, 'url': 'https://i.scdn.co/image/a5d1e6d0bfe182488a0d85d712a1082d78917f50', 'width': 320}, {'height': 160, 'url': 'https://i.scdn.co/image/bf57ea7387428947366160ce6bd27cbca191aa7b', 'width': 160}], 'name': 'Shakey Graves', 'popularity': 65, 'type': 'artist', 'uri': 'spotify:artist:1fZpYWNWdL5Z3wrDtISFUH'}, {'external_urls': {'spotify': 'https://open.spotify.com/artist/0nJUwPwC9Ti4vvuJ0q3MfT'}, 'followers': {'href': None, 'total': 317025}, 'genres': ['alternative country', 'country rock', 'folk', 'folk rock', 'indie folk', 'mellow gold', 'new americana', 'roots rock', 'singer-songwriter', 'traditional folk'], 'href': 'https://api.spotify.com/v1/artists/0nJUwPwC9Ti4vvuJ0q3MfT', 'id': '0nJUwPwC9Ti4vvuJ0q3MfT', 'images': [{'height': 640, 'url': 'https://i.scdn.co/image/cb63931d549ab6cbb25bec8e7e88b7106d97ca4a', 'width': 640}, {'height': 320, 'url': 'https://i.scdn.co/image/8adc17bb2b0d37325ef51970bf1fc45420df033b', 'width': 320}, {'height': 160, 'url': 'https://i.scdn.co/image/4106a0733469c6899d8327146498a8f66b8b891d', 'width': 160}], 'name': 'John Prine', 'popularity': 68, 'type': 'artist', 'uri': 'spotify:artist:0nJUwPwC9Ti4vvuJ0q3MfT'}, {'external_urls': {'spotify': 'https://open.spotify.com/artist/196lKsA13K3keVXMDFK66q'}, 'followers': {'href': None, 'total': 825807}, 'genres': ['indie folk', 'new americana', 'north carolina indie', 'progressive bluegrass', 'stomp and holler'], 'href': 'https://api.spotify.com/v1/artists/196lKsA13K3keVXMDFK66q', 'id': '196lKsA13K3keVXMDFK66q', 'images': [{'height': 640, 'url': 'https://i.scdn.co/image/505a39184d1a7381474c6517386fd400e8eaa045', 'width': 640}, {'height': 320, 'url': 'https://i.scdn.co/image/360d5e4deb1864ffb080469a2c4746eb6b1c45b4', 'width': 320}, {'height': 160, 'url': 'https://i.scdn.co/image/118717f2817a68ce2529c98e250a06c7259233de', 'width': 160}], 'name': 'The Avett Brothers', 'popularity': 68, 'type': 'artist', 'uri': 'spotify:artist:196lKsA13K3keVXMDFK66q'}, {'external_urls': {'spotify': 'https://open.spotify.com/artist/3jOstUTkEu2JkjvRdBA5Gu'}, 'followers': {'href': None, 'total': 2129184}, 'genres': ['alternative rock', 'modern power pop', 'modern rock', 'permanent wave', 'pop punk', 'pop rock', 'rock'], 'href': 'https://api.spotify.com/v1/artists/3jOstUTkEu2JkjvRdBA5Gu', 'id': '3jOstUTkEu2JkjvRdBA5Gu', 'images': [{'height': 640, 'url': 'https://i.scdn.co/image/6b6289ebd6f1b70f65a7ea0b0d83af8e9dda5859', 'width': 640}, {'height': 320, 'url': 'https://i.scdn.co/image/a98b858b40c14cdaaa69f472e711a6759033694d', 'width': 320}, {'height': 160, 'url': 'https://i.scdn.co/image/a1d645bc5a4a32f772d3d4a62e6a94f27a1457a6', 'width': 160}], 'name': 'Weezer', 'popularity': 76, 'type': 'artist', 'uri': 'spotify:artist:3jOstUTkEu2JkjvRdBA5Gu'}, {'external_urls': {'spotify': 'https://open.spotify.com/artist/43O3c6wewpzPKwVaGEEtBM'}, 'followers': {'href': None, 'total': 405144}, 'genres': ['alternative country', 'alternative rock', 'indie folk', 'indie rock', 'jam band', 'louisville indie', 'melancholia', 'modern rock', 'new americana', 'rock', 'roots rock', 'stomp and holler'], 'href': 'https://api.spotify.com/v1/artists/43O3c6wewpzPKwVaGEEtBM', 'id': '43O3c6wewpzPKwVaGEEtBM', 'images': [{'height': 640, 'url': 'https://i.scdn.co/image/9c6e0a8e895e0cbb8c024360c824a00b0b923b87', 'width': 640}, {'height': 320, 'url': 'https://i.scdn.co/image/79014411cdb1dbc199dd7cffbef34c70e96ca874', 'width': 320}, {'height': 160, 'url': 'https://i.scdn.co/image/e88bfe08a8e6add60eb9ead623665f77ca65b38f', 'width': 160}], 'name': 'My Morning Jacket', 'popularity': 62, 'type': 'artist', 'uri': 'spotify:artist:43O3c6wewpzPKwVaGEEtBM'}, {'external_urls': {'spotify': 'https://open.spotify.com/artist/4EVpmkEwrLYEg6jIsiPMIb'}, 'followers': {'href': None, 'total': 1039601}, 'genres': ['chamber pop', 'indie folk', 'indie pop', 'indie rock', 'seattle indie', 'stomp and holler'], 'href': 'https://api.spotify.com/v1/artists/4EVpmkEwrLYEg6jIsiPMIb', 'id': '4EVpmkEwrLYEg6jIsiPMIb', 'images': [{'height': 640, 'url': 'https://i.scdn.co/image/ebf515962abdb0a61c6bfeb26ceea6c629b9e756', 'width': 640}, {'height': 320, 'url': 'https://i.scdn.co/image/9936313657dd8e19feac691304c7bc52432f90c8', 'width': 320}, {'height': 160, 'url': 'https://i.scdn.co/image/64cf7d3b8161cbffaa9f53494463412247bacfb8', 'width': 160}], 'name': 'Fleet Foxes', 'popularity': 74, 'type': 'artist', 'uri': 'spotify:artist:4EVpmkEwrLYEg6jIsiPMIb'}, {'external_urls': {'spotify': 'https://open.spotify.com/artist/5Bcrb5qQMVTEbJ43fdIS4A'}, 'followers': {'href': None, 'total': 51997}, 'genres': ['deep new americana', 'new americana', 'progressive bluegrass', 'stomp and holler'], 'href': 'https://api.spotify.com/v1/artists/5Bcrb5qQMVTEbJ43fdIS4A', 'id': '5Bcrb5qQMVTEbJ43fdIS4A', 'images': [{'height': 640, 'url': 'https://i.scdn.co/image/46722bdba3a3f40865980fb735a38f60b3c27f59', 'width': 640}, {'height': 320, 'url': 'https://i.scdn.co/image/befa997afb1ccb64641c1361748eb9b2bfe97679', 'width': 320}, {'height': 160, 'url': 'https://i.scdn.co/image/0cff1b8fbf000583ea63327d147633d9681f6ce8', 'width': 160}], 'name': 'Mipso', 'popularity': 61, 'type': 'artist', 'uri': 'spotify:artist:5Bcrb5qQMVTEbJ43fdIS4A'}, {'external_urls': {'spotify': 'https://open.spotify.com/artist/5G49Sq5mMzAkGL4ZP6eVPY'}, 'followers': {'href': None, 'total': 165184}, 'genres': ['indie folk', 'indie pop', 'new americana', 'stomp and holler', 'uk americana'], 'href': 'https://api.spotify.com/v1/artists/5G49Sq5mMzAkGL4ZP6eVPY', 'id': '5G49Sq5mMzAkGL4ZP6eVPY', 'images': [{'height': 640, 'url': 'https://i.scdn.co/image/3cd35b7cf9af7b8bffafe420e51c8f407e412efe', 'width': 640}, {'height': 320, 'url': 'https://i.scdn.co/image/186aa5e8bff186d28a3a52dc16052bcbb31375ce', 'width': 320}, {'height': 160, 'url': 'https://i.scdn.co/image/614e862b39ce420b980509492b858ff299971522', 'width': 160}], 'name': 'The Staves', 'popularity': 61, 'type': 'artist', 'uri': 'spotify:artist:5G49Sq5mMzAkGL4ZP6eVPY'}, {'external_urls': {'spotify': 'https://open.spotify.com/artist/5QdyldG4Fl4TPiOIeMNpBZ'}, 'followers': {'href': None, 'total': 271194}, 'genres': ['art pop', 'brooklyn indie', 'chamber pop', 'freak folk', 'indie folk', 'indie pop', 'indie rock', 'small room', 'stomp and holler'], 'href': 'https://api.spotify.com/v1/artists/5QdyldG4Fl4TPiOIeMNpBZ', 'id': '5QdyldG4Fl4TPiOIeMNpBZ', 'images': [{'height': 640, 'url': 'https://i.scdn.co/image/c2b3a858b0be2719a3181d32379c15bf4eb8fdbc', 'width': 640}, {'height': 320, 'url': 'https://i.scdn.co/image/7ffbc10f1ed085c945ae7e29b96444d84e570d5b', 'width': 320}, {'height': 160, 'url': 'https://i.scdn.co/image/7ca688e126d357220926338604426a8bf3223dfb', 'width': 160}], 'name': 'Big Thief', 'popularity': 64, 'type': 'artist', 'uri': 'spotify:artist:5QdyldG4Fl4TPiOIeMNpBZ'}, {'external_urls': {'spotify': 'https://open.spotify.com/artist/6P7H3ai06vU1sGvdpBwDmE'}, 'followers': {'href': None, 'total': 1221568}, 'genres': ['album rock', 'art rock', 'classic rock', 'country rock', 'folk', 'folk rock', 'mellow gold', 'psychedelic rock', 'rock', 'roots rock', 'soft rock', 'yacht rock'], 'href': 'https://api.spotify.com/v1/artists/6P7H3ai06vU1sGvdpBwDmE', 'id': '6P7H3ai06vU1sGvdpBwDmE', 'images': [{'height': 1242, 'url': 'https://i.scdn.co/image/9d01e4e9aac39b891d684d3d1a5b3a451d7c72bd', 'width': 1000}, {'height': 795, 'url': 'https://i.scdn.co/image/067bf3caa525edb4e97e19b2a630ccf361897350', 'width': 640}, {'height': 248, 'url': 'https://i.scdn.co/image/c930cc3599a165211fa20c3ec0d70d1a3cbe4778', 'width': 200}, {'height': 79, 'url': 'https://i.scdn.co/image/85996811ba349faa5a467296baee6c7cd7518476', 'width': 64}], 'name': 'Steely Dan', 'popularity': 72, 'type': 'artist', 'uri': 'spotify:artist:6P7H3ai06vU1sGvdpBwDmE'}, {'external_urls': {'spotify': 'https://open.spotify.com/artist/7B2edU3Q7btJoNsoHCNohM'}, 'followers': {'href': None, 'total': 391229}, 'genres': ['art pop', 'british folk', 'british singer-songwriter', 'chamber pop', 'chamber psych', 'indie folk', 'indie pop', 'singer-songwriter', 'stomp and holler'], 'href': 'https://api.spotify.com/v1/artists/7B2edU3Q7btJoNsoHCNohM', 'id': '7B2edU3Q7btJoNsoHCNohM', 'images': [{'height': 640, 'url': 'https://i.scdn.co/image/80492c870d017df4714b10f6788d802c3a0d8b72', 'width': 640}, {'height': 320, 'url': 'https://i.scdn.co/image/f76927d4662810c1dce03410b7ae29252d0bee28', 'width': 320}, {'height': 160, 'url': 'https://i.scdn.co/image/6bcab3374436d0283a24948bdd2b103d4a9398e5', 'width': 160}], 'name': 'Laura Marling', 'popularity': 63, 'type': 'artist', 'uri': 'spotify:artist:7B2edU3Q7btJoNsoHCNohM'}, {'external_urls': {'spotify': 'https://open.spotify.com/artist/4BFMTELQyWJU1SwqcXMBm3'}, 'followers': {'href': None, 'total': 409360}, 'genres': ['alternative rock', 'blues rock', 'classic rock', 'dance rock', 'garage rock', 'permanent wave', 'post-punk', 'protopunk', 'psychedelic rock', 'punk', 'punk blues', 'rock'], 'href': 'https://api.spotify.com/v1/artists/4BFMTELQyWJU1SwqcXMBm3', 'id': '4BFMTELQyWJU1SwqcXMBm3', 'images': [{'height': 823, 'url': 'https://i.scdn.co/image/1d9f0cf8e6d8d51f28369eccd78dca2882fb0d83', 'width': 1000}, {'height': 527, 'url': 'https://i.scdn.co/image/0ca5b7b25505a312622da1ed90ab412c0bbf6717', 'width': 640}, {'height': 165, 'url': 'https://i.scdn.co/image/8f10d358610778872b6de9b5f876c7bdc2a70ac7', 'width': 200}, {'height': 53, 'url': 'https://i.scdn.co/image/64bb39146feef25bdc2585423e5a98e7d94ce44d', 'width': 64}], 'name': 'The Stooges', 'popularity': 58, 'type': 'artist', 'uri': 'spotify:artist:4BFMTELQyWJU1SwqcXMBm3'}, {'external_urls': {'spotify': 'https://open.spotify.com/artist/0CdbG1eHVjqjkQsGoH2u1V'}, 'followers': {'href': None, 'total': 79929}, 'genres': ['acoustic pop', 'indie anthem-folk', 'indie folk', 'indiecoustica', 'neo mellow', 'new americana', 'stomp and holler'], 'href': 'https://api.spotify.com/v1/artists/0CdbG1eHVjqjkQsGoH2u1V', 'id': '0CdbG1eHVjqjkQsGoH2u1V', 'images': [{'height': 640, 'url': 'https://i.scdn.co/image/17c0b16a7c73e074c12a6f596ede7adb06483bb9', 'width': 640}, {'height': 320, 'url': 'https://i.scdn.co/image/6d179aee7d4fab909af53f2bd4a43643c84c0ee5', 'width': 320}, {'height': 160, 'url': 'https://i.scdn.co/image/aacb277edd0ed9e779070cb087503152f9435f42', 'width': 160}], 'name': 'Peter Bradley Adams', 'popularity': 57, 'type': 'artist', 'uri': 'spotify:artist:0CdbG1eHVjqjkQsGoH2u1V'}, {'external_urls': {'spotify': 'https://open.spotify.com/artist/0ECwFtbIWEVNwjlrfc6xoL'}, 'followers': {'href': None, 'total': 5633797}, 'genres': ['album rock', 'classic rock', 'country rock', 'folk rock', 'heartland rock', 'mellow gold', 'rock', 'soft rock', 'yacht rock'], 'href': 'https://api.spotify.com/v1/artists/0ECwFtbIWEVNwjlrfc6xoL', 'id': '0ECwFtbIWEVNwjlrfc6xoL', 'images': [{'height': 640, 'url': 'https://i.scdn.co/image/6b215464b769958ef1d7d9f163e3f49ebacf8842', 'width': 640}, {'height': 320, 'url': 'https://i.scdn.co/image/2cfb3ecbce024ccb5e42b6f1b23683a3868fa804', 'width': 320}, {'height': 160, 'url': 'https://i.scdn.co/image/f6e8c5d35816033e9e64f59adf96bb139b5a8206', 'width': 160}], 'name': 'Eagles', 'popularity': 80, 'type': 'artist', 'uri': 'spotify:artist:0ECwFtbIWEVNwjlrfc6xoL'}, {'external_urls': {'spotify': 'https://open.spotify.com/artist/0NIPkIjTV8mB795yEIiPYL'}, 'followers': {'href': None, 'total': 1435140}, 'genres': ['indie pop', 'modern rock', 'rock'], 'href': 'https://api.spotify.com/v1/artists/0NIPkIjTV8mB795yEIiPYL', 'id': '0NIPkIjTV8mB795yEIiPYL', 'images': [{'height': 640, 'url': 'https://i.scdn.co/image/f27116f2070b900bf186a10395e0db87c669eeaf', 'width': 640}, {'height': 320, 'url': 'https://i.scdn.co/image/e2d82980436ce6e7059b410c468fa9b3d053fbc7', 'width': 320}, {'height': 160, 'url': 'https://i.scdn.co/image/530f8fb170dea86795ebe139171efedec301de38', 'width': 160}], 'name': 'Wallows', 'popularity': 80, 'type': 'artist', 'uri': 'spotify:artist:0NIPkIjTV8mB795yEIiPYL'}, {'external_urls': {'spotify': 'https://open.spotify.com/artist/16eRpMNXSQ15wuJoeqguaB'}, 'followers': {'href': None, 'total': 582241}, 'genres': ['alternative rock', 'art rock', 'freak folk', 'indie pop', 'indie rock', 'modern rock', 'noise pop', 'okc indie', 'rock'], 'href': 'https://api.spotify.com/v1/artists/16eRpMNXSQ15wuJoeqguaB', 'id': '16eRpMNXSQ15wuJoeqguaB', 'images': [{'height': 640, 'url': 'https://i.scdn.co/image/77e5739b2a1875e75d1a3414507a68c3570a8581', 'width': 640}, {'height': 320, 'url': 'https://i.scdn.co/image/d73f86852ee90035929ab1b0bea695b34fd57284', 'width': 320}, {'height': 160, 'url': 'https://i.scdn.co/image/8850c6fa6080e83fb048b7182036ada16ffb22b2', 'width': 160}], 'name': 'The Flaming Lips', 'popularity': 65, 'type': 'artist', 'uri': 'spotify:artist:16eRpMNXSQ15wuJoeqguaB'}, {'external_urls': {'spotify': 'https://open.spotify.com/artist/1OVaGC0CDZaxjcPxclSNmp'}, 'followers': {'href': None, 'total': 65960}, 'genres': ['boston folk', 'folk-pop', 'indie anthem-folk', 'indie folk', 'indiecoustica', 'new americana', 'stomp and holler'], 'href': 'https://api.spotify.com/v1/artists/1OVaGC0CDZaxjcPxclSNmp', 'id': '1OVaGC0CDZaxjcPxclSNmp', 'images': [{'height': 640, 'url': 'https://i.scdn.co/image/88435f146ade4c68d5386393743853da9e71f53f', 'width': 640}, {'height': 320, 'url': 'https://i.scdn.co/image/be41c65786a62022e9b01640838237c9f539b112', 'width': 320}, {'height': 160, 'url': 'https://i.scdn.co/image/4cc89a7879a0ffd739f56f5dc5a39ba4975173b4', 'width': 160}], 'name': 'Tall Heights', 'popularity': 61, 'type': 'artist', 'uri': 'spotify:artist:1OVaGC0CDZaxjcPxclSNmp'}, {'external_urls': {'spotify': 'https://open.spotify.com/artist/1ybAN3utgdoUL1MUCtH4QM'}, 'followers': {'href': None, 'total': 200940}, 'genres': ['art pop', 'chillwave', 'denver indie', 'electropop', 'indie pop', 'indie rock', 'indie surf', 'shimmer pop'], 'href': 'https://api.spotify.com/v1/artists/1ybAN3utgdoUL1MUCtH4QM', 'id': '1ybAN3utgdoUL1MUCtH4QM', 'images': [{'height': 640, 'url': 'https://i.scdn.co/image/320d8c892b6eecd7f7eb619c3e899db0be7a32b0', 'width': 640}, {'height': 320, 'url': 'https://i.scdn.co/image/1de57ac6dc243b7ae933a3311a8a07f7ecd29412', 'width': 320}, {'height': 160, 'url': 'https://i.scdn.co/image/9ee1d54e0f6f61a0620f36bf9616ccd4088747a6', 'width': 160}], 'name': 'Tennis', 'popularity': 59, 'type': 'artist', 'uri': 'spotify:artist:1ybAN3utgdoUL1MUCtH4QM'}, {'external_urls': {'spotify': 'https://open.spotify.com/artist/3Aut8hgiqZSy2qmJluZMU9'}, 'followers': {'href': None, 'total': 33830}, 'genres': ['indie folk', 'irish singer-songwriter', 'new americana'], 'href': 'https://api.spotify.com/v1/artists/3Aut8hgiqZSy2qmJluZMU9', 'id': '3Aut8hgiqZSy2qmJluZMU9', 'images': [{'height': 640, 'url': 'https://i.scdn.co/image/dcca7dd7bfbad1c5b63a476f28daf820f9bcd088', 'width': 640}, {'height': 320, 'url': 'https://i.scdn.co/image/21c02cd1a69c76e6203b68e6d96000b1f7439d38', 'width': 320}, {'height': 160, 'url': 'https://i.scdn.co/image/5a6a2165bdad526631446f46491ad1954936c92c', 'width': 160}], 'name': 'Rosie Carney', 'popularity': 62, 'type': 'artist', 'uri': 'spotify:artist:3Aut8hgiqZSy2qmJluZMU9'}, {'external_urls': {'spotify': 'https://open.spotify.com/artist/4EENT7N7rCBwrddM3s0vFS'}, 'followers': {'href': None, 'total': 276538}, 'genres': ['alternative dance', 'australian dance', 'australian electropop', 'chillwave', 'dance-punk', 'electronic rock', 'electronica', 'electropop', 'filter house', 'indie pop', 'indie rock', 'indietronica', 'modern rock', 'neo-synthpop', 'new rave', 'nu disco', 'nu gaze', 'shimmer pop'], 'href': 'https://api.spotify.com/v1/artists/4EENT7N7rCBwrddM3s0vFS', 'id': '4EENT7N7rCBwrddM3s0vFS', 'images': [{'height': 640, 'url': 'https://i.scdn.co/image/0d2c2458169c95cc2dd0f6bf488e68da68e8f73d', 'width': 640}, {'height': 320, 'url': 'https://i.scdn.co/image/12df27192f6b7c699011f10d0abc19594c9fffdb', 'width': 320}, {'height': 160, 'url': 'https://i.scdn.co/image/0083351c935eda4bc0e7179d9518fd345ddcb82e', 'width': 160}], 'name': 'Cut Copy', 'popularity': 57, 'type': 'artist', 'uri': 'spotify:artist:4EENT7N7rCBwrddM3s0vFS'}, {'external_urls': {'spotify': 'https://open.spotify.com/artist/4M5nCE77Qaxayuhp3fVn4V'}, 'followers': {'href': None, 'total': 914868}, 'genres': ['acoustic pop', 'indie folk', 'indie pop', 'neo mellow', 'stomp and holler'], 'href': 'https://api.spotify.com/v1/artists/4M5nCE77Qaxayuhp3fVn4V', 'id': '4M5nCE77Qaxayuhp3fVn4V', 'images': [{'height': 640, 'url': 'https://i.scdn.co/image/82e0135c52978f4d54e8ddf7275cbe97b5831142', 'width': 640}, {'height': 320, 'url': 'https://i.scdn.co/image/413ed48070545cff2b7dba843336923be6d0ab9a', 'width': 320}, {'height': 160, 'url': 'https://i.scdn.co/image/cbd23d08cdfe211d404d6e30e6cd63207617b230', 'width': 160}], 'name': 'Iron & Wine', 'popularity': 71, 'type': 'artist', 'uri': 'spotify:artist:4M5nCE77Qaxayuhp3fVn4V'}, {'external_urls': {'spotify': 'https://open.spotify.com/artist/4iMO20EPodreIaEl8qW66y'}, 'followers': {'href': None, 'total': 529052}, 'genres': ['bedroom pop', 'indie pop', 'modern rock', 'oakland indie', 'pop'], 'href': 'https://api.spotify.com/v1/artists/4iMO20EPodreIaEl8qW66y', 'id': '4iMO20EPodreIaEl8qW66y', 'images': [{'height': 640, 'url': 'https://i.scdn.co/image/86c32e84aab6272165902fdb2752ba0f99b26591', 'width': 640}, {'height': 320, 'url': 'https://i.scdn.co/image/0c620e267b50102d46ceaca0f56bfa74caad8788', 'width': 320}, {'height': 160, 'url': 'https://i.scdn.co/image/0378bdcc457bab8d6abae315a547049eeb881061', 'width': 160}], 'name': 'Still Woozy', 'popularity': 75, 'type': 'artist', 'uri': 'spotify:artist:4iMO20EPodreIaEl8qW66y'}, {'external_urls': {'spotify': 'https://open.spotify.com/artist/5xeBMeW0YzWIXSVzAxhM8O'}, 'followers': {'href': None, 'total': 239638}, 'genres': ['alternative dance', 'alternative rock', 'anti-folk', 'art pop', 'athens indie', 'baroque pop', 'dance-punk', 'e6fi', 'freak folk', 'indie pop', 'indie rock', 'modern rock', 'new rave'], 'href': 'https://api.spotify.com/v1/artists/5xeBMeW0YzWIXSVzAxhM8O', 'id': '5xeBMeW0YzWIXSVzAxhM8O', 'images': [{'height': 640, 'url': 'https://i.scdn.co/image/97a9515a0c78b16c75bd62e4028cc6400811fb82', 'width': 640}, {'height': 320, 'url': 'https://i.scdn.co/image/a64e993967b98c09eea6d30a017bb365243aa0e1', 'width': 320}, {'height': 160, 'url': 'https://i.scdn.co/image/97e63001ef3e300db42973203f8f50568e80c366', 'width': 160}], 'name': 'of Montreal', 'popularity': 57, 'type': 'artist', 'uri': 'spotify:artist:5xeBMeW0YzWIXSVzAxhM8O'}, {'external_urls': {'spotify': 'https://open.spotify.com/artist/7i36YYqKiSqVihxTcvLSBK'}, 'followers': {'href': None, 'total': 19775}, 'genres': ['alternative country', 'folk', 'new americana', 'roots rock', 'traditional folk'], 'href': 'https://api.spotify.com/v1/artists/7i36YYqKiSqVihxTcvLSBK', 'id': '7i36YYqKiSqVihxTcvLSBK', 'images': [{'height': 640, 'url': 'https://i.scdn.co/image/e82091988ce6afe1a5a4b267db62842607390e5c', 'width': 640}, {'height': 320, 'url': 'https://i.scdn.co/image/961746ac195bf191e5be46365b53ed344b2da808', 'width': 320}, {'height': 160, 'url': 'https://i.scdn.co/image/e6cf8ea0c3e8443e3778756d4ddc18ee76786d1a', 'width': 160}], 'name': 'Jeffrey Foucault', 'popularity': 46, 'type': 'artist', 'uri': 'spotify:artist:7i36YYqKiSqVihxTcvLSBK'}, {'external_urls': {'spotify': 'https://open.spotify.com/artist/7izarc0fRIPbdZ8cVyChRf'}, 'followers': {'href': None, 'total': 115290}, 'genres': ['hip hop', 'rap', 'underground hip hop'], 'href': 'https://api.spotify.com/v1/artists/7izarc0fRIPbdZ8cVyChRf', 'id': '7izarc0fRIPbdZ8cVyChRf', 'images': [{'height': 640, 'url': 'https://i.scdn.co/image/7852bc50d47116408f11c4c350b930106a1d166e', 'width': 640}, {'height': 320, 'url': 'https://i.scdn.co/image/92ce509793b83bb8b5aaa90310d87757aafa8878', 'width': 320}, {'height': 160, 'url': 'https://i.scdn.co/image/3e6269e2c37eb0f4c5814fa61ef317c783e0cf8a', 'width': 160}], 'name': 'Spillage Village', 'popularity': 66, 'type': 'artist', 'uri': 'spotify:artist:7izarc0fRIPbdZ8cVyChRf'}, {'external_urls': {'spotify': 'https://open.spotify.com/artist/08GQAI4eElDnROBrJRGE0X'}, 'followers': {'href': None, 'total': 5459007}, 'genres': ['album rock', 'classic rock', 'mellow gold', 'rock', 'soft rock', 'yacht rock'], 'href': 'https://api.spotify.com/v1/artists/08GQAI4eElDnROBrJRGE0X', 'id': '08GQAI4eElDnROBrJRGE0X', 'images': [{'height': 640, 'url': 'https://i.scdn.co/image/8976b6b0aacba6f7859b1f0ab7bc0adcd6ea7444', 'width': 640}, {'height': 320, 'url': 'https://i.scdn.co/image/7316c71bf06332dc259e14ddce420b2b060e9c69', 'width': 320}, {'height': 160, 'url': 'https://i.scdn.co/image/4f7f18a93be4af82f876ff9ce79ede8a3cecd712', 'width': 160}], 'name': 'Fleetwood Mac', 'popularity': 88, 'type': 'artist', 'uri': 'spotify:artist:08GQAI4eElDnROBrJRGE0X'}, {'external_urls': {'spotify': 'https://open.spotify.com/artist/33EUXrFKGjpUSGacqEHhU4'}, 'followers': {'href': None, 'total': 1063982}, 'genres': ['alternative rock', 'classic rock', 'dance rock', 'glam rock', 'new wave', 'permanent wave', 'post-punk', 'protopunk', 'punk', 'rock'], 'href': 'https://api.spotify.com/v1/artists/33EUXrFKGjpUSGacqEHhU4', 'id': '33EUXrFKGjpUSGacqEHhU4', 'images': [{'height': 640, 'url': 'https://i.scdn.co/image/4ad7f961423843597bc7d6c6691c9988883dd794', 'width': 640}, {'height': 320, 'url': 'https://i.scdn.co/image/47cf73dad488cbed81ad64ad160c4b1195f25518', 'width': 320}, {'height': 160, 'url': 'https://i.scdn.co/image/e2c6ed182e3aed01042f5fe1e63d7325c37a89d6', 'width': 160}], 'name': 'Iggy Pop', 'popularity': 69, 'type': 'artist', 'uri': 'spotify:artist:33EUXrFKGjpUSGacqEHhU4'}, {'external_urls': {'spotify': 'https://open.spotify.com/artist/39vA9YljbnOApXKniLWBZv'}, 'followers': {'href': None, 'total': 422771}, 'genres': ['electropop', 'etherpop', 'indie folk', 'indie pop', 'indie rock'], 'href': 'https://api.spotify.com/v1/artists/39vA9YljbnOApXKniLWBZv', 'id': '39vA9YljbnOApXKniLWBZv', 'images': [{'height': 640, 'url': 'https://i.scdn.co/image/a9488380277cdce61ed6f625e70278c8cff8e4ce', 'width': 640}, {'height': 320, 'url': 'https://i.scdn.co/image/91e8fa4ce28ee486d790a3eaebce294e7c6ac7d5', 'width': 320}, {'height': 160, 'url': 'https://i.scdn.co/image/9ea9bfbe76357be12ac180927246a9279375afa9', 'width': 160}], 'name': 'Sylvan Esso', 'popularity': 68, 'type': 'artist', 'uri': 'spotify:artist:39vA9YljbnOApXKniLWBZv'}, {'external_urls': {'spotify': 'https://open.spotify.com/artist/5a2EaR3hamoenG9rDuVn8j'}, 'followers': {'href': None, 'total': 4800343}, 'genres': ['funk', 'funk rock', 'minneapolis sound', 'motown', 'synth funk'], 'href': 'https://api.spotify.com/v1/artists/5a2EaR3hamoenG9rDuVn8j', 'id': '5a2EaR3hamoenG9rDuVn8j', 'images': [{'height': 640, 'url': 'https://i.scdn.co/image/0040a9952a800042a6e85b2ea3c3b9cb6a077edf', 'width': 640}, {'height': 320, 'url': 'https://i.scdn.co/image/f2456e75cf2da672e24ed7023338abef8ccb9c82', 'width': 320}, {'height': 160, 'url': 'https://i.scdn.co/image/b3b7dae5e718beb4917b8674d8e6fe50b82803d4', 'width': 160}], 'name': 'Prince', 'popularity': 77, 'type': 'artist', 'uri': 'spotify:artist:5a2EaR3hamoenG9rDuVn8j'}, {'external_urls': {'spotify': 'https://open.spotify.com/artist/6fxk3UXHTFYET8qCT9WlBF'}, 'followers': {'href': None, 'total': 189579}, 'genres': ['freak folk', 'indie folk', 'indie rock', 'kc indie', 'modern folk rock', 'new americana', 'stomp and holler'], 'href': 'https://api.spotify.com/v1/artists/6fxk3UXHTFYET8qCT9WlBF', 'id': '6fxk3UXHTFYET8qCT9WlBF', 'images': [{'height': 640, 'url': 'https://i.scdn.co/image/00dfd0a2aca758bd95555647581833ae09e2fb8b', 'width': 640}, {'height': 320, 'url': 'https://i.scdn.co/image/c4460f9c1b45a751fa8087395e410706c6d8ff85', 'width': 320}, {'height': 160, 'url': 'https://i.scdn.co/image/71bf82fa50c122f2c4d021f79f4c2d29ff57d9f2', 'width': 160}], 'name': 'Kevin Morby', 'popularity': 65, 'type': 'artist', 'uri': 'spotify:artist:6fxk3UXHTFYET8qCT9WlBF'}]\n"
     ]
    }
   ],
   "source": [
    "# Step 2a - Define a function to get data from the Spotify API\n",
    "# We can then use this function to get your \"top artist\" raw data:\n",
    "\n",
    "def req(url, headers):\n",
    "    r = requests.get(url, headers=headers)\n",
    "    return json.loads(r.text)\n",
    "\n",
    "my_top_artists = req(url = 'https://api.spotify.com/v1/me/top/artists?limit=50',headers=headers)['items']\n",
    "\n",
    "# To find the URL, i went to the link below, and pulled out the part after curl.\n",
    "# https://developer.spotify.com/console/get-current-user-top-artists-and-tracks/?type=artists\n",
    "\n",
    "print(f'''*********************************************************************************************************************\\n\n",
    "Below is the raw \"top artist\" data returned from a Spotify API GET request (yay, you got some data)!\\n\n",
    "Notice it starts and ends with [], a clue that it is a Python list.\\n\n",
    "It look a bit nasty, but we will use Python to clean it up.\\n\\n\n",
    "{my_top_artists}''')"
   ]
  },
  {
   "cell_type": "code",
   "execution_count": null,
   "metadata": {},
   "outputs": [],
   "source": [
    "# ***OPTIONAL***\n",
    "# Dictionaries (dicts) - look for curly braces\n",
    "print('Python dictionaries (dicts)- look for curly braces\\n')\n",
    "d = {'a': 'hello', 'b': 'world'}\n",
    "\n",
    "print(f'd = {d}\\n')\n",
    "print('A Python dict contains keys and values')\n",
    "print(f'keys = {list(d.keys())}')\n",
    "print(f'values = {list(d.values())}')\n",
    "print('\\nAccessing dict values:')\n",
    "\n",
    "print(f'''dict[key] = value''')\n",
    "print(f'''d['a'] = {d['a']}''')"
   ]
  },
  {
   "cell_type": "code",
   "execution_count": null,
   "metadata": {},
   "outputs": [],
   "source": [
    "# ***OPTIONAL***\n",
    "print (f'''Let's look at the first two elements of the \"my_top_artists\" list:\n",
    "\\n1st Artist:\\n{my_top_artists[0]}\n",
    "\\n2nd Artist:\\n{my_top_artists[1]}\n",
    "\\nEach element is wrapped in curly braces, a clue that it is a Python dict.''')"
   ]
  },
  {
   "cell_type": "code",
   "execution_count": null,
   "metadata": {},
   "outputs": [],
   "source": [
    "# ***OPTIONAL***\n",
    "# Accessing nested values (lists of dicts of lists of ...)\n",
    "L = [[d, {'c': 'chips', 'd': 'ahoy', 'e': 'matey!'}], {'f': {'ooo': 'lala'}}]\n",
    "print(f'L = {L}')\n",
    "print(f'L[0] = {L[0]}')\n",
    "print(f'L[0][0] = {L[0][0]}')\n",
    "print(f'''L[0][0]['a'] = {L[0][0]['a']}''')\n",
    "print(f'''L[1]['f'] = {L[1]['f']}''')\n",
    "print(f'''L[1]['f']['ooo'] = {L[1]['f']['ooo']}''')"
   ]
  },
  {
   "cell_type": "code",
   "execution_count": null,
   "metadata": {},
   "outputs": [],
   "source": [
    "# ***OPTIONAL***\n",
    "# Let's access the values in the \"my_top_artists\" list of dictionaries:\n",
    "\n",
    "# First artist dictionary is my_top_artists[0]\n",
    "# Second artist dictionary is my_top_artists[1]\n",
    "\n",
    "print('First Artist:')\n",
    "print('   Name = ' + my_top_artists[0]['name'])\n",
    "print('   Genres = ' + str(my_top_artists[0]['genres']))\n",
    "print('''   URI (Spotify's \"artist key\" = ''' + my_top_artists[0]['uri'])\n",
    "\n",
    "print('\\nSecond Artist:')\n",
    "print('   Name = ' + my_top_artists[1]['name'])\n",
    "print('   Genres = ' + str(my_top_artists[1]['genres']))\n",
    "print('''   URI (Spotify's \"artist key\" = ''' + my_top_artists[1]['uri'])\n",
    "\n",
    "print('''\\nThe artist's genres will be important for helping us decide which songs to add to a playlist later on...''')"
   ]
  },
  {
   "cell_type": "code",
   "execution_count": null,
   "metadata": {},
   "outputs": [],
   "source": [
    "# ***OPTIONAL***\n",
    "# Pandas DataFrames\n",
    "# Think of a Pandas DataFrame as the Python version of an Excel spreadsheet or Database table\n",
    "# DataFrames can be defined in a variety of ways\n",
    "# Note: since we imported pandas as pd, we can define a pandas DataFrame as pd.DataFrame()\n",
    "\n",
    "print('Pandas DataFrames')\n",
    "df1 = pd.DataFrame({'a': 'hello', 'b': 'world'}, index = [1])\n",
    "display(df1)\n",
    "df2 = df1.rename(columns={'a': 'a_renamed', 'b': 'b_renamed'})\n",
    "display(df2)\n",
    "# alternatively, use \"inplace=True\" - this prevents you from having to define a new df\n",
    "df1.rename(columns={'a': 'a_renamed_inplace', 'b': 'b_renamed_inplace'}, inplace=True)\n",
    "display(df1)\n",
    "# You can add a column like this\n",
    "df1['combined'] = df1['a_renamed_inplace'] ++ df1['b_renamed_inplace']\n",
    "display(df1)"
   ]
  },
  {
   "cell_type": "code",
   "execution_count": null,
   "metadata": {},
   "outputs": [],
   "source": [
    "# ***OPTIONAL***\n",
    "# More DataFrames\n",
    "df = pd.DataFrame({'a': [1,2,3,3], 'b': [4,5,6,6]})\n",
    "display(df)\n",
    "df = df.set_index('a')\n",
    "display(df)\n",
    "df = df.reset_index()\n",
    "display(df)\n",
    "df.drop(columns=['b'], inplace=True)\n",
    "display(df)\n",
    "df.drop_duplicates(inplace=True)\n",
    "display(df)\n",
    "# https://pandas.pydata.org/pandas-docs/stable/reference/api/pandas.DataFrame.rank.html\n",
    "df['pct_rank'] = df['a'].rank(pct=True)\n",
    "display(df)\n",
    "l = df['pct_rank'].to_list()\n",
    "print('\\n', l)\n",
    "\n",
    "df = pd.DataFrame(columns=['empty','df'])\n",
    "display(df)\n",
    "df = df.append(pd.DataFrame([['not','anymore']], columns = ['empty','df']))\n",
    "display(df)"
   ]
  },
  {
   "cell_type": "code",
   "execution_count": null,
   "metadata": {},
   "outputs": [],
   "source": [
    "# ***OPTIONAL***\n",
    "# Accessing Dataframe data\n",
    "print('\\nUse .loc to access dataframe by rows, columns:\\n')\n",
    "df = pd.DataFrame({'a': [1,2,3,3], 'b': [4,5,6,6]})\n",
    "print('\\n\\ndf:')\n",
    "display(df)\n",
    "print('''\\ndf.loc[:,'b']''')\n",
    "display(df.loc[:,'b'])\n",
    "print('''\\ndf.loc[1,'b']''')\n",
    "display(df.loc[1,'b'])\n",
    "print('''\\ndisplay(df['b'].unique())''')\n",
    "display(df['b'].unique())\n",
    "# You can incorporate logic into a .loc accessor\n",
    "display(df.loc[df['a'] <= 2])\n",
    "# You can also stack logic\n",
    "print(df.loc[df['a'] <= 2].reset_index()['index'].to_list())\n",
    "\n",
    "\n",
    "print('''\\nFantastic resource on Python data structures:\\n\n",
    "http://www.grapenthin.org/teaching/geop501/lectures/lecture_06_data_structures.pdf''')"
   ]
  },
  {
   "cell_type": "code",
   "execution_count": null,
   "metadata": {},
   "outputs": [],
   "source": [
    "# Step 2b - create an empty \"Top Artist\" Pandas DataFrame\n",
    "print('''\\nNext let's define a Pandas DataFrame (currently emtpy) to hold the data from the list of top artists:''')\n",
    "my_top_artists_df = pd.DataFrame(columns=['artist_uri','name','genre list'])\n",
    "display(my_top_artists_df)\n",
    "\n",
    "print('''\\nUse the display function to \"print\" dataframes in jupyter notebooks.''')"
   ]
  },
  {
   "cell_type": "code",
   "execution_count": null,
   "metadata": {},
   "outputs": [],
   "source": [
    "# ***OPTIONAL***\n",
    "# \"For\" Loops\n",
    "print('For Loops:\\n')\n",
    "\n",
    "print('''for i in [1,2,3]:\n",
    "    print(i**2)\\n''')\n",
    "for i in [1,2,3]:\n",
    "    print(i**2)\n",
    "\n",
    "print('''\\nfor i in range(1,4):\n",
    "    print(i**2)''')\n",
    "for i in range(1,4):\n",
    "    print(i**2)\n",
    "    \n",
    "# Be careful with the indentation - anything indented after the \"for\" statement will be in the loop."
   ]
  },
  {
   "cell_type": "code",
   "execution_count": null,
   "metadata": {},
   "outputs": [],
   "source": [
    "# Step 2c - Loop over the list of raw \"Top Artist\" data, migrating key information into the \"Top Artists\" Pandas DataFrame\n",
    "\n",
    "for i in range(len(my_top_artists)): # for each dictionary item in our \"my top artists\" list\n",
    "    uri = my_top_artists[i]['uri'] \n",
    "    name = my_top_artists[i]['name'] # assign the value for the key \"name\" to the variable \"name\"\n",
    "    genres = my_top_artists[i]['genres'] \n",
    "    # append these variables to the dataframe, which is empty at first, but it will grow with each iteration\n",
    "    my_top_artists_df = my_top_artists_df.append(pd.DataFrame([[uri, name, genres]], columns = ['artist_uri','name', 'genre list']))\n",
    "\n",
    "# Use dataframe.head() to only see the top 5 rows of a dataframe\n",
    "display(my_top_artists_df.head())\n",
    "\n",
    "# Note: not all artists have genres, so you may see some empty lists"
   ]
  },
  {
   "cell_type": "code",
   "execution_count": null,
   "metadata": {},
   "outputs": [],
   "source": [
    "# Step 2d - Get genre counts from the \"Top Artist\" DataFrame, and put them into a Top Artist Genre Count DataFrame.\n",
    "\n",
    "# The cool thing about Dataframes is they have some built in functions, like \"explode\".\n",
    "# Explode takes a column with list values and creates a row for each element of the list.\n",
    "\n",
    "# FYI, Python and it's associated packages (e.g. to include Pandas) has some great documentation, if you are interested:\n",
    "# https://pandas.pydata.org/pandas-docs/stable/reference/api/pandas.DataFrame.html\n",
    "# Stack Overflow is a great place if you have questions.\n",
    "\n",
    "genre_exploded_df = my_top_artists_df.explode('genre list')\n",
    "display(genre_exploded_df.head())\n",
    "\n",
    "# Next let's use the built in value_counts function to count the times a genre shows up in our top artists\n",
    "genre_count_df = pd.DataFrame(genre_exploded_df['genre list'].value_counts())\n",
    "\n",
    "print('Your top artist genre counts:')\n",
    "display(genre_count_df.head())\n",
    "\n",
    "print('''\\nNotice there is no column name for the genres. \\n\n",
    "That's b/c the genres make up the index, or unique row identifier.\\n\n",
    "Let's push the index out with .reset_index()''')\n",
    "top_artist_genre_count_reset_index_df = genre_count_df.reset_index()\n",
    "display(top_artist_genre_count_reset_index_df.head())\n",
    "\n",
    "print('\\n... and rename the column')\n",
    "top_artist_genre_count_reset_index_df.columns = ['genre','genre count']\n",
    "# Let's update the Dataframe's name, so we can more easily recall what it is later on\n",
    "print('\\n\\ntop_artist_genre_count_df:')\n",
    "top_artist_genre_count_df = top_artist_genre_count_reset_index_df\n",
    "display(top_artist_genre_count_df)"
   ]
  },
  {
   "cell_type": "code",
   "execution_count": null,
   "metadata": {},
   "outputs": [],
   "source": [
    "# Step 3 of 5"
   ]
  },
  {
   "cell_type": "code",
   "execution_count": null,
   "metadata": {},
   "outputs": [],
   "source": [
    "# ***OPTIONAL***\n",
    "# In the following Jupyter notebook cells, let's combine concepts learned into some larger functions\n",
    "# Functions can be useful for consolidating more complex sequences of logic"
   ]
  },
  {
   "cell_type": "code",
   "execution_count": null,
   "metadata": {},
   "outputs": [],
   "source": [
    "# Step 3a - Hit the Spotify API to get a list of Spotify's Featured Playlists (raw data)\n",
    "# Step 3b - Loop over the list of raw playlist data, migrating key information into a \"Featured Playlist\" Dataframe\n",
    "\n",
    "# How did I find the URL below? I went to the link below and pulled out the part after curl (with some trial and error)\n",
    "# https://developer.spotify.com/console/get-featured-playlists/?country=US&limit=50\n",
    "\n",
    "# In case your token has expired (tokens act like URL + headers to access an API), run the define_scope function.\n",
    "define_scope()\n",
    "\n",
    "def get_featured_playlist_df():\n",
    "    print('\\nGet raw \"featured playlists\" from Spotify - Spotify updates these playlists a few times per day!\\n')\n",
    "    url = f\"https://api.spotify.com/v1/browse/featured-playlists?limit=50&country=US\"\n",
    "    raw_data = req(url,headers=headers)\n",
    "    featured_playlist_count = raw_data['playlists']['total']\n",
    "    print(f'featured playlist count = {featured_playlist_count}')\n",
    "    print('\\nRaw data for 1st playlist:\\n')\n",
    "    display(raw_data['playlists']['items'][0])\n",
    "    df = pd.DataFrame()\n",
    "    \n",
    "    for i in range(0, featured_playlist_count):\n",
    "        raw_featured_playlist = raw_data['playlists']['items']\n",
    "        playlist = raw_featured_playlist[i]['name']\n",
    "        playlist_uri = raw_featured_playlist[i]['uri']\n",
    "        song_count = raw_featured_playlist[i]['tracks']['total']\n",
    "        df = df.append(pd.DataFrame([[playlist, playlist_uri, song_count]], columns = ['playlist','playlist_uri','song_count']))\n",
    "    df.set_index(['playlist'], inplace=True)\n",
    "    return df\n",
    "\n",
    "playlist_df = get_featured_playlist_df()\n",
    "print('\\nplaylist_df:')\n",
    "display(playlist_df)\n",
    "\n",
    "print('''Notice that the playlist column falls slightly lower than the other two. That's b/c it is actually the index.''')\n",
    "\n",
    "# Spotify API reference (in beta):\n",
    "# https://developer.spotify.com/documentation/web-api/reference-beta/"
   ]
  },
  {
   "cell_type": "code",
   "execution_count": null,
   "metadata": {},
   "outputs": [],
   "source": [
    "# Step 4 of 5"
   ]
  },
  {
   "cell_type": "code",
   "execution_count": null,
   "metadata": {},
   "outputs": [],
   "source": [
    "# Step 4a - Loop over \"Featured Playlist\" Dataframe's playlist uris, hitting the API to create a list of raw song data\n",
    "\n",
    "# Since the Spotify API can only handle requests of up to 100 songs at a time,\n",
    "# let's iterate over the requests to grab all songs\n",
    "\n",
    "def get_raw_featured_playlist_song_list(df):\n",
    "    raw_featured_songs = []\n",
    "    for uri in df.loc[:,'playlist_uri'].to_list():\n",
    "        song_count = df.loc[df['playlist_uri']==uri,'song_count'][0]\n",
    "        offset = 0\n",
    "        url = f\"https://api.spotify.com/v1/playlists/{uri.split(':')[2]}/tracks?limit=50&offset={offset}\"\n",
    "        for i in range(int(math.ceil(song_count/100.0))):\n",
    "            offset = 100*i\n",
    "            raw_featured_songs.extend(req(url,headers=headers)['items'])\n",
    "    return raw_featured_songs\n",
    "\n",
    "raw_featured_playlist_songs_list = get_raw_featured_playlist_song_list(playlist_df)\n",
    "print('''Let's take a look at the first song's raw data:\\n''')\n",
    "print(raw_featured_playlist_songs_list[0])"
   ]
  },
  {
   "cell_type": "code",
   "execution_count": null,
   "metadata": {},
   "outputs": [],
   "source": [
    "# ***OPTIONAL***\n",
    "# If statement\n",
    "a = 1\n",
    "b = 2\n",
    "\n",
    "if a == b:\n",
    "    print('a == b')\n",
    "else:\n",
    "    print('a != b')"
   ]
  },
  {
   "cell_type": "code",
   "execution_count": null,
   "metadata": {},
   "outputs": [],
   "source": [
    "# ***OPTIONAL***\n",
    "# String Split\n",
    "a = 'hello-world'\n",
    "b = a.split('-')\n",
    "print(b)"
   ]
  },
  {
   "cell_type": "code",
   "execution_count": null,
   "metadata": {},
   "outputs": [],
   "source": [
    "# Step 4b - Loop over the list of raw song data, migrating key information into \"Featured Playlist Songs\" Dataframe\n",
    "\n",
    "define_scope()\n",
    "\n",
    "def song_raw_data_to_df(raw_songs):\n",
    "    print('Transforming raw song data list into DataFrame(df)')\n",
    "    # create empty df\n",
    "    df = pd.DataFrame(columns = [\n",
    "        'album', \n",
    "        'artist_uri', \n",
    "        'artist',\n",
    "        'track',\n",
    "        'url',\n",
    "        'popularity',\n",
    "        'added_at',\n",
    "        'release_date',\n",
    "        'release_year',\n",
    "        'uri'\n",
    "        ])\n",
    "    # Pipe songs into df 1 at a time\n",
    "    for i in range(0, len(raw_songs)):\n",
    "        # Print progress every 100 songs\n",
    "        if (i/100).is_integer():\n",
    "            print(f\"{i}/{len(raw_songs)} parsed\")\n",
    "        try:\n",
    "            album = raw_songs[i]['track']['album']['name']\n",
    "            artist_uri = raw_songs[i]['track']['artists'][0]['uri'].split(':')[2]\n",
    "            artist = raw_songs[i]['track']['album']['artists'][0]['name']\n",
    "            track = raw_songs[i]['track']['name']\n",
    "            url = raw_songs[i]['track']['external_urls']['spotify']\n",
    "            popularity = raw_songs[i]['track']['popularity']\n",
    "            added_at = raw_songs[i]['added_at']\n",
    "            release_date = raw_songs[i]['track']['album']['release_date']\n",
    "            release_year = release_date.split('-')[0]\n",
    "            uri = raw_songs[i]['track']['uri']\n",
    "            df = df.append(pd.DataFrame([[\n",
    "                album, \n",
    "                artist_uri,\n",
    "                artist, \n",
    "                track, \n",
    "                url, \n",
    "                popularity, \n",
    "                added_at, \n",
    "                release_date, \n",
    "                release_year,\n",
    "                uri\n",
    "                ]], columns = [\n",
    "                'album', \n",
    "                'artist_uri', \n",
    "                'artist',\n",
    "                'track',\n",
    "                'url',\n",
    "                'popularity',\n",
    "                'added_at',\n",
    "                'release_date',\n",
    "                'release_year',\n",
    "                'uri'\n",
    "                ]))\n",
    "        except:\n",
    "            pass\n",
    "    # Make an index out of the uri column\n",
    "    df.set_index('uri', inplace=True)\n",
    "    return df\n",
    "\n",
    "featured_playlist_song_df = song_raw_data_to_df(raw_featured_playlist_songs_list)\n",
    "display(featured_playlist_song_df.head())\n",
    "print('''\\nThe uri is the unique index for the song.\n",
    "Notice that we don't have genres - we will get these from the artist_uris, like we did for our featured playlists.''')"
   ]
  },
  {
   "cell_type": "code",
   "execution_count": null,
   "metadata": {},
   "outputs": [],
   "source": [
    "# Step 4c - Loop over the \"Featured Playlist Song\" Dataframe, hitting the API to get the genres \n",
    "#           associated with each song, and migrating them into a \"Genres\" DataFrame\n",
    "\n",
    "define_scope()\n",
    "print('''\\nLet's get the genres for the featured playlist songs' artists. \n",
    "As we loop over the data, we add it to a dataframe of featured playlist songs.\n",
    "Please note - this step can take a couple minutes.\n",
    "If printing every artists gets annoying, feel free to comment that part out.\n",
    "As noted before, Spotify does not have genres for every artist.\\n''')\n",
    "\n",
    "def get_genres(df):\n",
    "    g = []\n",
    "    artist_uris = df['artist_uri'].unique()\n",
    "    print(f\"{len(artist_uris)} distinct artists\\n\")\n",
    "    for i in range(0, len(artist_uris)):\n",
    "        if (i/100).is_integer():\n",
    "            print(f\"{i}/{len(artist_uris)} parsed\\n\")\n",
    "        request = req(url = f\"https://api.spotify.com/v1/artists/{artist_uris[i]}\",headers=headers)\n",
    "        artist = request['name']\n",
    "        genres = request['genres']\n",
    "        print(f\"{i}:{artist}:{genres}\")\n",
    "        # You can append to lists just like you can append to Dataframes\n",
    "        g.append(genres)\n",
    "\n",
    "    genres_df = pd.DataFrame({'artist_uri': artist_uris, 'genre list': g})\n",
    "    return genres_df\n",
    "\n",
    "genre_df = get_genres(featured_playlist_song_df)"
   ]
  },
  {
   "cell_type": "code",
   "execution_count": null,
   "metadata": {},
   "outputs": [],
   "source": [
    "# Step 4c - extended...\n",
    "# Let's take a look at the genre df we just created\n",
    "print('genre_df:')\n",
    "display(genre_df.head())\n",
    "genre_exploded_df = genre_df.explode('genre list')\n",
    "\n",
    "print('\\n\\ngenre_exploded_df:')\n",
    "# ... and the exploded version\n",
    "display(genre_exploded_df.head())"
   ]
  },
  {
   "cell_type": "code",
   "execution_count": null,
   "metadata": {},
   "outputs": [],
   "source": [
    "# ***OPTIONAL***\n",
    "# Merging Dataframes - this combines rows from two or more dfs, based on a shared index and/or column(s) between them.\n",
    "# If you know SQL, merging is the same as SQL joining.\n",
    "\n",
    "df1 = pd.DataFrame({'index': [1,2,3], 'colA': [4,5,6], 'colB': [7,8,9]}).set_index('index')\n",
    "df2 = pd.DataFrame({'index': [1,2], 'colC': ['hello','world']}).set_index('index')\n",
    "print('df1:')\n",
    "display(df1)\n",
    "print('\\n\\ndf2:')\n",
    "display(df2)\n",
    "\n",
    "print('\\n\\ndf3 - Inner join - return rows where the index and/or \"join-column(s)\" match in both dataframes:')\n",
    "print('''Since df2 does not have a 3rd index, that row is excluded from the results.''')\n",
    "df3 = df1.merge(df2, on = 'index', how = 'inner')\n",
    "display(df3)\n",
    "\n",
    "print('\\n\\ndf4 - Left join - all data from df1 (left df) is preserved, and matching rows from df2 (right df) are added:')\n",
    "print('''Where records don't match, null (i.e. blank, empty, or Not a Number (NaN) values result.''')\n",
    "df4 = df1.merge(df2, on = 'index', how = 'left')\n",
    "display(df4)"
   ]
  },
  {
   "cell_type": "code",
   "execution_count": null,
   "metadata": {},
   "outputs": [],
   "source": [
    "# Step 4d - Merge the \"Featured Playlist Songs\" DataFrame with the \"Genres \"Dataframe\n",
    "\n",
    "def add_genres(df, genre_exploded_df):\n",
    "    df = df.reset_index().merge(genre_exploded_df, on = 'artist_uri', how = 'left').set_index('uri')\n",
    "    df.rename(columns={'genre list': 'genre'}, inplace=True)\n",
    "    return df\n",
    "\n",
    "print('''Let's add the genres to the featured playlist song df, merging on uri''')\n",
    "featured_playlist_songs_with_genres_df = add_genres(featured_playlist_song_df, genre_exploded_df)\n",
    "display(featured_playlist_songs_with_genres_df.head())"
   ]
  },
  {
   "cell_type": "code",
   "execution_count": null,
   "metadata": {},
   "outputs": [],
   "source": [
    "# Step 5 of 5"
   ]
  },
  {
   "cell_type": "code",
   "execution_count": null,
   "metadata": {},
   "outputs": [],
   "source": [
    "# Step 5a - Merge the \"Top Artist Genres\" Dataframe with the \"Featured Playlist Songs\" DataFrame\n",
    "\n",
    "def add_top_artist_genre_counts(genre_df, song_df):\n",
    "    df = song_df.reset_index()\n",
    "    df = df.merge(genre_df , on = 'genre',how = 'left')\n",
    "    df.drop(columns=['genre'], inplace=True)\n",
    "    return df\n",
    "\n",
    "# use the forward slash \\ to escape the newline\n",
    "featured_playlist_songs_with_top_artist_genre_counts = \\\n",
    "add_top_artist_genre_counts(top_artist_genre_count_df, featured_playlist_songs_with_genres_df)\n",
    "\n",
    "display(featured_playlist_songs_with_top_artist_genre_counts.head())"
   ]
  },
  {
   "cell_type": "code",
   "execution_count": null,
   "metadata": {},
   "outputs": [],
   "source": [
    "# ***OPTIONAL***\n",
    "# Dataframe aggregation (e.g. summing, counting, etc.)\n",
    "# To do any aggregation, you must group by all columns EXCEPT the ones you are aggregating\n",
    "\n",
    "df1 = pd.DataFrame({'colA': ['hello', 'hello', 'hello', 'world'], 'colB': ['gottem','coach','coach','coach'], 'colC': [1,2,3,4]})\n",
    "print('df1:')\n",
    "display(df1)\n",
    "\n",
    "df2 = df1.groupby(['colA','colB']).sum()\n",
    "print('\\n\\ndf2 - sum values in colC:')\n",
    "display(df2)\n",
    "\n",
    "df3 = df2.sort_values('colC', ascending=False)\n",
    "print('\\n\\ndf3 - sort rows by values in colC, ascending:')\n",
    "display(df3)"
   ]
  },
  {
   "cell_type": "code",
   "execution_count": null,
   "metadata": {},
   "outputs": [],
   "source": [
    "# Step 4b - Sum the genre counts\n",
    "\n",
    "def sum_genre_col(df):\n",
    "    groupby_cols = df.columns.to_list()[:-1]\n",
    "    df = df.groupby(groupby_cols).sum().sort_values('genre count', ascending=False)\n",
    "    df = df.rename({'genre count': 'genre score'}, axis=1).reset_index() \n",
    "    # reset index after summing - otherwise everything prior to sum will become index\n",
    "    df.set_index('uri', inplace=True)\n",
    "    return df\n",
    "\n",
    "featured_playlist_songs_with_top_artist_genre_score = \\\n",
    "sum_genre_col(featured_playlist_songs_with_top_artist_genre_counts)\n",
    "\n",
    "display(featured_playlist_songs_with_top_artist_genre_score.head())"
   ]
  },
  {
   "cell_type": "code",
   "execution_count": null,
   "metadata": {},
   "outputs": [],
   "source": [
    "# Step 4c - Create an empty Spotify playlist to store the songs\n",
    "# Like API GET requests, POST requests (sending data to the API) also need the URL + headers\n",
    "# We also need the data we are sending, called a payload, which must be formatted as a json object (basically, a dict)\n",
    "# I got the URL for this and the format for the request payload/body @ https://developer.spotify.com/console/post-playlists/\n",
    "\n",
    "define_scope()\n",
    "\n",
    "def create_playlist():\n",
    "    payload = {\"name\": f'Fresh Jams, {ctime()}'}\n",
    "    result = requests.post(url = f'https://api.spotify.com/v1/users/{username}/playlists'\n",
    "        , headers = headers\n",
    "        , data = json.dumps(payload)\n",
    "        )\n",
    "    print(f'''playlist = {payload['name']}''')\n",
    "    # Now let's get our playlists from Spotify.\n",
    "    playlists_raw = sp.current_user_playlists()['items']\n",
    "    # If the name matches, grab the uri (which is the unique identifier or key for the playlist)\n",
    "    for i in playlists_raw:\n",
    "        if i['name'] == payload['name']:\n",
    "            uri = i['uri']\n",
    "    return uri\n",
    "\n",
    "uri = create_playlist()\n",
    "print(f'uri = {uri}')"
   ]
  },
  {
   "cell_type": "code",
   "execution_count": null,
   "metadata": {},
   "outputs": [],
   "source": [
    "# Step 4d - Add songs with a genre score threshold (95th percentile) into the new playlist\n",
    "\n",
    "# Got the URL for this @ https://developer.spotify.com/console/post-playlist-tracks/\n",
    "\n",
    "def create_playlist(uri, df):\n",
    "    playlist_uri = uri.split(':')[2]\n",
    "    df['pct_rank'] = df['genre score'].rank(pct=True)\n",
    "    uri_list = df.loc[df['pct_rank'] >= 0.95].reset_index()['uri'].to_list()\n",
    "    num_songs_to_add = len(uri_list)\n",
    "    # add songs\n",
    "    for i in range(int(math.ceil(num_songs_to_add/100.0))):\n",
    "        url = f\"https://api.spotify.com/v1/playlists/{playlist_uri}/tracks?uris={','.join(uri_list[i*100:(i+1)*100])}\"\n",
    "        requests.post(url, headers=headers)\n",
    "    return print('****Complete! Check Spotify to see if playlist was filled with songs.****')\n",
    "\n",
    "create_playlist(uri,featured_playlist_songs_with_top_artist_genre_score)\n",
    "print('Thank you!')"
   ]
  }
 ],
 "metadata": {
  "kernelspec": {
   "display_name": "Python 3",
   "language": "python",
   "name": "python3"
  },
  "language_info": {
   "codemirror_mode": {
    "name": "ipython",
    "version": 3
   },
   "file_extension": ".py",
   "mimetype": "text/x-python",
   "name": "python",
   "nbconvert_exporter": "python",
   "pygments_lexer": "ipython3",
   "version": "3.8.0"
  }
 },
 "nbformat": 4,
 "nbformat_minor": 4
}
